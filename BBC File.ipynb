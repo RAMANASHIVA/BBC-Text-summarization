{
 "cells": [
  {
   "cell_type": "markdown",
   "id": "ea2f4410",
   "metadata": {},
   "source": [
    "# Import Libraries"
   ]
  },
  {
   "cell_type": "code",
   "execution_count": 1,
   "id": "95959540",
   "metadata": {},
   "outputs": [],
   "source": [
    "#for data preprocessing\n",
    "import numpy as np\n",
    "import pandas as pd\n",
    "\n",
    "\n",
    "import seaborn as sns\n",
    "import matplotlib.pyplot as plt\n",
    "\n",
    "import os\n",
    "from glob import glob\n",
    "from tqdm import tqdm, tqdm_notebook\n",
    "\n",
    "import gc\n",
    "\n",
    "import warnings\n",
    "warnings.filterwarnings(\"ignore\")"
   ]
  },
  {
   "cell_type": "markdown",
   "id": "14edd2c1",
   "metadata": {},
   "source": [
    "# Load the Data"
   ]
  },
  {
   "cell_type": "code",
   "execution_count": 2,
   "id": "ae4eed38",
   "metadata": {},
   "outputs": [
    {
     "name": "stdout",
     "output_type": "stream",
     "text": [
      "['business', 'entertainment', 'politics', 'sport', 'tech']\n"
     ]
    }
   ],
   "source": [
    "# Show the directory structure\n",
    "root_dir = \"C:\\\\Users\\\\raman\\\\BBC_project\\\\BBC News Summary\\\\News Articles\"\n",
    "\n",
    "# Show the folders inside the root\n",
    "print(os.listdir(root_dir))"
   ]
  },
  {
   "cell_type": "code",
   "execution_count": 3,
   "id": "e94cf513",
   "metadata": {},
   "outputs": [
    {
     "name": "stderr",
     "output_type": "stream",
     "text": [
      "100%|\u001b[33m████████████████████████████████████████████████████████████████████████████████████\u001b[0m| 5/5 [00:14<00:00,  2.89s/it]\u001b[0m"
     ]
    },
    {
     "name": "stdout",
     "output_type": "stream",
     "text": [
      "Total Articles:  2225\n",
      "Total Categories:  2225\n",
      "\n",
      "Sample Article: \n",
      "Ad sales boost Time Warner profit\n",
      "\n",
      "Quarterly profits at US media giant TimeWarner jumped 76% to $1.13bn (Â£600m) for the three months to December, from $639m year-earlier.\n",
      "\n",
      "The firm, which is now one of the biggest investors in Google, benefited from sales of high-speed internet connections and higher advert sales. TimeWarner said fourth quarter sales rose 2% to $11.1bn from $10.9bn. Its profits were buoyed by one-off gains which offset a profit dip at Warner Bros, and less users for AOL.\n",
      "\n",
      "Time Warner said on Friday that it now owns 8% of search-engine Google. But its own internet business, AOL, had has mixed fortunes. It lost 464,000 subscribers in the fourth quarter profits were lower than in the preceding three quarters. However, the company said AOL's underlying profit before exceptional items rose 8% on the back of stronger internet advertising revenues. It hopes to increase subscribers by offering the online service free to TimeWarner internet customers and will try to sign up AOL's existing customers for high-speed broadband. TimeWarner also has to restate 2000 and 2003 results following a probe by the US Securities Exchange Commission (SEC), which is close to concluding.\n",
      "\n",
      "Time Warner's fourth quarter profits were slightly better than analysts' expectations. But its film division saw profits slump 27% to $284m, helped by box-office flops Alexander and Catwoman, a sharp contrast to year-earlier, when the third and final film in the Lord of the Rings trilogy boosted results. For the full-year, TimeWarner posted a profit of $3.36bn, up 27% from its 2003 performance, while revenues grew 6.4% to $42.09bn. \"Our financial performance was strong, meeting or exceeding all of our full-year objectives and greatly enhancing our flexibility,\" chairman and chief executive Richard Parsons said. For 2005, TimeWarner is projecting operating earnings growth of around 5%, and also expects higher revenue and wider profit margins.\n",
      "\n",
      "TimeWarner is to restate its accounts as part of efforts to resolve an inquiry into AOL by US market regulators. It has already offered to pay $300m to settle charges, in a deal that is under review by the SEC. The company said it was unable to estimate the amount it needed to set aside for legal reserves, which it previously set at $500m. It intends to adjust the way it accounts for a deal with German music publisher Bertelsmann's purchase of a stake in AOL Europe, which it had reported as advertising revenue. It will now book the sale of its stake in AOL Europe as a loss on the value of that stake.\n",
      "\n"
     ]
    },
    {
     "name": "stderr",
     "output_type": "stream",
     "text": [
      "\n"
     ]
    }
   ],
   "source": [
    "#List which has the unique category names\n",
    "unique_category = os.listdir(root_dir)\n",
    "#List to store the category names\n",
    "news_category_list = []\n",
    "#List to store the news articles\n",
    "news_articles_list = []\n",
    "\n",
    "#Iterate through unique category\n",
    "for category in tqdm(unique_category,colour='yellow'):\n",
    "    # Get the absolute path of that category directory\n",
    "    abs_category_path = root_dir + \"/\" + category\n",
    "    \n",
    "    # Create a query to get the absolute path of all the .txt files\n",
    "    query = abs_category_path + \"/*.txt\"\n",
    "    \n",
    "    # Get the list of absolute path of all the files\n",
    "    file_paths = glob(query)\n",
    "    \n",
    "    # Iterate through all the .txt files path\n",
    "    for file_path in file_paths:\n",
    "        try:\n",
    "            # Open the file\n",
    "            f = open(file_path, 'r')\n",
    "            # Read the file contents\n",
    "            news_article = f.read()\n",
    "            # Close the file\n",
    "            f.close()\n",
    "        except:\n",
    "            # Open the file\n",
    "            f = open(file_path, 'rb')\n",
    "            # Read the file contents\n",
    "            news_article = f.read()\n",
    "            # Close the file\n",
    "            f.close()\n",
    "            \n",
    "        # Append new articles and category to respective list\n",
    "        news_articles_list.append(news_article)\n",
    "        news_category_list.append(category)\n",
    "        \n",
    "# Print length of news articles and categories\n",
    "print(\"Total Articles: \", len(news_articles_list))\n",
    "print(\"Total Categories: \", len(news_category_list), end='\\n\\n')\n",
    "\n",
    "# Print a sample article\n",
    "print(\"Sample Article: \")\n",
    "print(news_articles_list[0])\n",
    "\n"
   ]
  },
  {
   "cell_type": "markdown",
   "id": "09db842a",
   "metadata": {},
   "source": [
    "# Convert the raw data to dataframe"
   ]
  },
  {
   "cell_type": "code",
   "execution_count": 4,
   "id": "9dff4157",
   "metadata": {},
   "outputs": [
    {
     "data": {
      "text/html": [
       "<div>\n",
       "<style scoped>\n",
       "    .dataframe tbody tr th:only-of-type {\n",
       "        vertical-align: middle;\n",
       "    }\n",
       "\n",
       "    .dataframe tbody tr th {\n",
       "        vertical-align: top;\n",
       "    }\n",
       "\n",
       "    .dataframe thead th {\n",
       "        text-align: right;\n",
       "    }\n",
       "</style>\n",
       "<table border=\"1\" class=\"dataframe\">\n",
       "  <thead>\n",
       "    <tr style=\"text-align: right;\">\n",
       "      <th></th>\n",
       "      <th>news</th>\n",
       "      <th>labels</th>\n",
       "    </tr>\n",
       "  </thead>\n",
       "  <tbody>\n",
       "    <tr>\n",
       "      <th>0</th>\n",
       "      <td>Ad sales boost Time Warner profit\\n\\nQuarterly...</td>\n",
       "      <td>business</td>\n",
       "    </tr>\n",
       "    <tr>\n",
       "      <th>1</th>\n",
       "      <td>Dollar gains on Greenspan speech\\n\\nThe dollar...</td>\n",
       "      <td>business</td>\n",
       "    </tr>\n",
       "    <tr>\n",
       "      <th>2</th>\n",
       "      <td>Yukos unit buyer faces loan claim\\n\\nThe owner...</td>\n",
       "      <td>business</td>\n",
       "    </tr>\n",
       "    <tr>\n",
       "      <th>3</th>\n",
       "      <td>High fuel prices hit BA's profits\\n\\nBritish A...</td>\n",
       "      <td>business</td>\n",
       "    </tr>\n",
       "    <tr>\n",
       "      <th>4</th>\n",
       "      <td>Pernod takeover talk lifts Domecq\\n\\nShares in...</td>\n",
       "      <td>business</td>\n",
       "    </tr>\n",
       "  </tbody>\n",
       "</table>\n",
       "</div>"
      ],
      "text/plain": [
       "                                                news    labels\n",
       "0  Ad sales boost Time Warner profit\\n\\nQuarterly...  business\n",
       "1  Dollar gains on Greenspan speech\\n\\nThe dollar...  business\n",
       "2  Yukos unit buyer faces loan claim\\n\\nThe owner...  business\n",
       "3  High fuel prices hit BA's profits\\n\\nBritish A...  business\n",
       "4  Pernod takeover talk lifts Domecq\\n\\nShares in...  business"
      ]
     },
     "execution_count": 4,
     "metadata": {},
     "output_type": "execute_result"
    }
   ],
   "source": [
    "#Dictionary to create a new dataframe\n",
    "df_dict = {'news':news_articles_list,'labels':news_category_list}\n",
    "\n",
    "#convert to dataframe\n",
    "df = pd.DataFrame(df_dict)\n",
    "\n",
    "#show dataframe\n",
    "df.head()"
   ]
  },
  {
   "cell_type": "code",
   "execution_count": 5,
   "id": "08e650a3",
   "metadata": {},
   "outputs": [
    {
     "data": {
      "text/plain": [
       "0"
      ]
     },
     "execution_count": 5,
     "metadata": {},
     "output_type": "execute_result"
    }
   ],
   "source": [
    "#delete unwanted  variable to save space\n",
    "del news_articles_list,news_category_list,df_dict\n",
    "#clear the cache\n",
    "gc.collect()"
   ]
  },
  {
   "cell_type": "markdown",
   "id": "8e840254",
   "metadata": {},
   "source": [
    "# Remove the '\\n' from news articles"
   ]
  },
  {
   "cell_type": "code",
   "execution_count": 6,
   "id": "1ed6634e",
   "metadata": {},
   "outputs": [
    {
     "data": {
      "application/vnd.jupyter.widget-view+json": {
       "model_id": "ed5a1d15b3a44f0aa0559346e970f4fa",
       "version_major": 2,
       "version_minor": 0
      },
      "text/plain": [
       "0it [00:00, ?it/s]"
      ]
     },
     "metadata": {},
     "output_type": "display_data"
    },
    {
     "data": {
      "application/vnd.jupyter.widget-view+json": {
       "model_id": "658671bde3ab41399f8455504900ba20",
       "version_major": 2,
       "version_minor": 0
      },
      "text/plain": [
       "  0%|          | 0/2225 [00:00<?, ?it/s]"
      ]
     },
     "metadata": {},
     "output_type": "display_data"
    },
    {
     "data": {
      "text/html": [
       "<div>\n",
       "<style scoped>\n",
       "    .dataframe tbody tr th:only-of-type {\n",
       "        vertical-align: middle;\n",
       "    }\n",
       "\n",
       "    .dataframe tbody tr th {\n",
       "        vertical-align: top;\n",
       "    }\n",
       "\n",
       "    .dataframe thead th {\n",
       "        text-align: right;\n",
       "    }\n",
       "</style>\n",
       "<table border=\"1\" class=\"dataframe\">\n",
       "  <thead>\n",
       "    <tr style=\"text-align: right;\">\n",
       "      <th></th>\n",
       "      <th>news</th>\n",
       "      <th>labels</th>\n",
       "    </tr>\n",
       "  </thead>\n",
       "  <tbody>\n",
       "    <tr>\n",
       "      <th>0</th>\n",
       "      <td>Ad sales boost Time Warner profit  Quarterly p...</td>\n",
       "      <td>business</td>\n",
       "    </tr>\n",
       "    <tr>\n",
       "      <th>1</th>\n",
       "      <td>Dollar gains on Greenspan speech  The dollar h...</td>\n",
       "      <td>business</td>\n",
       "    </tr>\n",
       "    <tr>\n",
       "      <th>2</th>\n",
       "      <td>Yukos unit buyer faces loan claim  The owners ...</td>\n",
       "      <td>business</td>\n",
       "    </tr>\n",
       "    <tr>\n",
       "      <th>3</th>\n",
       "      <td>High fuel prices hit BA's profits  British Air...</td>\n",
       "      <td>business</td>\n",
       "    </tr>\n",
       "    <tr>\n",
       "      <th>4</th>\n",
       "      <td>Pernod takeover talk lifts Domecq  Shares in U...</td>\n",
       "      <td>business</td>\n",
       "    </tr>\n",
       "  </tbody>\n",
       "</table>\n",
       "</div>"
      ],
      "text/plain": [
       "                                                news    labels\n",
       "0  Ad sales boost Time Warner profit  Quarterly p...  business\n",
       "1  Dollar gains on Greenspan speech  The dollar h...  business\n",
       "2  Yukos unit buyer faces loan claim  The owners ...  business\n",
       "3  High fuel prices hit BA's profits  British Air...  business\n",
       "4  Pernod takeover talk lifts Domecq  Shares in U...  business"
      ]
     },
     "execution_count": 6,
     "metadata": {},
     "output_type": "execute_result"
    }
   ],
   "source": [
    "#Function to removing the '/n' from the news articles\n",
    "def remove_ns(text):\n",
    "    return text.replace('\\n',' ')\n",
    "\n",
    "#to show the progress of apply\n",
    "tqdm_notebook().pandas()\n",
    "\n",
    "#Apply this to the dataframe\n",
    "df['news'] = df['news'].progress_apply(remove_ns)\n",
    "\n",
    "#show the dataframe\n",
    "df.head()"
   ]
  },
  {
   "cell_type": "markdown",
   "id": "1e2a247e",
   "metadata": {},
   "source": [
    "# Exploratory Data Analysis"
   ]
  },
  {
   "cell_type": "markdown",
   "id": "35e31a93",
   "metadata": {},
   "source": [
    "# Looking at the distribution of labels"
   ]
  },
  {
   "cell_type": "code",
   "execution_count": 7,
   "id": "a30c84ea",
   "metadata": {},
   "outputs": [
    {
     "data": {
      "image/png": "[encoded data removed]",
      "text/plain": [
       "<Figure size 1000x700 with 1 Axes>"
      ]
     },
     "metadata": {},
     "output_type": "display_data"
    }
   ],
   "source": [
    "ax = df['labels'].value_counts().plot(kind='bar',figsize=(10,7))\n",
    "for p in ax.patches:\n",
    "    ax.annotate(\"{:.1f}\".format(p.get_height()), (p.get_x(), p.get_height()+5))\n",
    "plt.title(\"Frequency of news categories\")\n",
    "plt.show()"
   ]
  },
  {
   "cell_type": "markdown",
   "id": "cc13acf7",
   "metadata": {},
   "source": [
    "# Looking at the distribution of length of news articles across categories"
   ]
  },
  {
   "cell_type": "code",
   "execution_count": 8,
   "id": "f834d6b7",
   "metadata": {},
   "outputs": [
    {
     "data": {
      "image/png": "[encoded data removed]",
      "text/plain": [
       "<Figure size 1000x700 with 1 Axes>"
      ]
     },
     "metadata": {},
     "output_type": "display_data"
    }
   ],
   "source": [
    "#Create a column which stores the length of the news articles\n",
    "df['news_length'] = df['news'].str.split().apply(len)\n",
    "\n",
    "#create a subplot\n",
    "fig,ax = plt.subplots(figsize=(10,7))\n",
    "\n",
    "# Plot a boxplot showing the distribution of the length of news articles across categories\n",
    "sns.boxplot(x='news_length',y='labels',data=df,ax=ax)\n",
    "\n",
    "#show the plot\n",
    "plt.show()"
   ]
  },
  {
   "cell_type": "code",
   "execution_count": 9,
   "id": "47202c0d",
   "metadata": {},
   "outputs": [
    {
     "data": {
      "text/html": [
       "<div>\n",
       "<style scoped>\n",
       "    .dataframe tbody tr th:only-of-type {\n",
       "        vertical-align: middle;\n",
       "    }\n",
       "\n",
       "    .dataframe tbody tr th {\n",
       "        vertical-align: top;\n",
       "    }\n",
       "\n",
       "    .dataframe thead th {\n",
       "        text-align: right;\n",
       "    }\n",
       "</style>\n",
       "<table border=\"1\" class=\"dataframe\">\n",
       "  <thead>\n",
       "    <tr style=\"text-align: right;\">\n",
       "      <th>labels</th>\n",
       "      <th>business</th>\n",
       "      <th>entertainment</th>\n",
       "      <th>politics</th>\n",
       "      <th>sport</th>\n",
       "      <th>tech</th>\n",
       "    </tr>\n",
       "  </thead>\n",
       "  <tbody>\n",
       "    <tr>\n",
       "      <th>news_length</th>\n",
       "      <td>297.0</td>\n",
       "      <td>262.5</td>\n",
       "      <td>439.0</td>\n",
       "      <td>288.0</td>\n",
       "      <td>447.0</td>\n",
       "    </tr>\n",
       "  </tbody>\n",
       "</table>\n",
       "</div>"
      ],
      "text/plain": [
       "labels       business  entertainment  politics  sport   tech\n",
       "news_length     297.0          262.5     439.0  288.0  447.0"
      ]
     },
     "execution_count": 9,
     "metadata": {},
     "output_type": "execute_result"
    }
   ],
   "source": [
    "#Print the median values of the news length\n",
    "df.groupby('labels').median().T"
   ]
  },
  {
   "cell_type": "code",
   "execution_count": 10,
   "id": "0d3375d8",
   "metadata": {},
   "outputs": [
    {
     "data": {
      "text/html": [
       "<div>\n",
       "<style scoped>\n",
       "    .dataframe tbody tr th:only-of-type {\n",
       "        vertical-align: middle;\n",
       "    }\n",
       "\n",
       "    .dataframe tbody tr th {\n",
       "        vertical-align: top;\n",
       "    }\n",
       "\n",
       "    .dataframe thead th {\n",
       "        text-align: right;\n",
       "    }\n",
       "</style>\n",
       "<table border=\"1\" class=\"dataframe\">\n",
       "  <thead>\n",
       "    <tr style=\"text-align: right;\">\n",
       "      <th>labels</th>\n",
       "      <th>business</th>\n",
       "      <th>entertainment</th>\n",
       "      <th>politics</th>\n",
       "      <th>sport</th>\n",
       "      <th>tech</th>\n",
       "    </tr>\n",
       "  </thead>\n",
       "  <tbody>\n",
       "    <tr>\n",
       "      <th>news_length</th>\n",
       "      <td>328.880392</td>\n",
       "      <td>330.621762</td>\n",
       "      <td>453.973621</td>\n",
       "      <td>329.262231</td>\n",
       "      <td>502.695761</td>\n",
       "    </tr>\n",
       "  </tbody>\n",
       "</table>\n",
       "</div>"
      ],
      "text/plain": [
       "labels         business  entertainment    politics       sport        tech\n",
       "news_length  328.880392     330.621762  453.973621  329.262231  502.695761"
      ]
     },
     "execution_count": 10,
     "metadata": {},
     "output_type": "execute_result"
    }
   ],
   "source": [
    "#print the mean values of the news length\n",
    "df.groupby('labels').mean().T"
   ]
  },
  {
   "cell_type": "code",
   "execution_count": 11,
   "id": "b82dec9e",
   "metadata": {},
   "outputs": [
    {
     "data": {
      "text/plain": [
       "Int64Index([   0,    1,    2,    3,    4,    5,    6,    7,    8,    9,\n",
       "            ...\n",
       "            2203, 2204, 2208, 2210, 2213, 2215, 2216, 2220, 2221, 2223],\n",
       "           dtype='int64', length=1804)"
      ]
     },
     "execution_count": 11,
     "metadata": {},
     "output_type": "execute_result"
    }
   ],
   "source": [
    "# Get the indexes of such entries (will be used later to demonstrate tokenization)\n",
    "df[df['news_length']<512].index"
   ]
  },
  {
   "cell_type": "code",
   "execution_count": 12,
   "id": "dbaeb752",
   "metadata": {},
   "outputs": [
    {
     "name": "stdout",
     "output_type": "stream",
     "text": [
      "No. of articles with greater length than DistilBERT max context size:  421\n"
     ]
    }
   ],
   "source": [
    "# Get the number of articles whose length is greater than DistilBERT context size\n",
    "print(\"No. of articles with greater length than DistilBERT max context size: \", len(df[df['news_length']>=512]))"
   ]
  },
  {
   "cell_type": "markdown",
   "id": "6340f238",
   "metadata": {},
   "source": [
    "We will have to truncate these articles such that their length becomes less than the DistilBERT's max context size.\n",
    "This step can have a negative impact on the model we build, as there is loss of information."
   ]
  },
  {
   "cell_type": "markdown",
   "id": "8610f286",
   "metadata": {},
   "source": [
    "# Encoding the categorical new labels to numerical"
   ]
  },
  {
   "cell_type": "code",
   "execution_count": 13,
   "id": "e7cb804b",
   "metadata": {},
   "outputs": [],
   "source": [
    "from sklearn.preprocessing import LabelEncoder"
   ]
  },
  {
   "cell_type": "code",
   "execution_count": 14,
   "id": "77f55132",
   "metadata": {},
   "outputs": [
    {
     "data": {
      "text/html": [
       "<div>\n",
       "<style scoped>\n",
       "    .dataframe tbody tr th:only-of-type {\n",
       "        vertical-align: middle;\n",
       "    }\n",
       "\n",
       "    .dataframe tbody tr th {\n",
       "        vertical-align: top;\n",
       "    }\n",
       "\n",
       "    .dataframe thead th {\n",
       "        text-align: right;\n",
       "    }\n",
       "</style>\n",
       "<table border=\"1\" class=\"dataframe\">\n",
       "  <thead>\n",
       "    <tr style=\"text-align: right;\">\n",
       "      <th></th>\n",
       "      <th>news</th>\n",
       "      <th>labels</th>\n",
       "      <th>news_length</th>\n",
       "    </tr>\n",
       "  </thead>\n",
       "  <tbody>\n",
       "    <tr>\n",
       "      <th>0</th>\n",
       "      <td>Ad sales boost Time Warner profit  Quarterly p...</td>\n",
       "      <td>0</td>\n",
       "      <td>421</td>\n",
       "    </tr>\n",
       "    <tr>\n",
       "      <th>1</th>\n",
       "      <td>Dollar gains on Greenspan speech  The dollar h...</td>\n",
       "      <td>0</td>\n",
       "      <td>384</td>\n",
       "    </tr>\n",
       "    <tr>\n",
       "      <th>2</th>\n",
       "      <td>Yukos unit buyer faces loan claim  The owners ...</td>\n",
       "      <td>0</td>\n",
       "      <td>264</td>\n",
       "    </tr>\n",
       "    <tr>\n",
       "      <th>3</th>\n",
       "      <td>High fuel prices hit BA's profits  British Air...</td>\n",
       "      <td>0</td>\n",
       "      <td>406</td>\n",
       "    </tr>\n",
       "    <tr>\n",
       "      <th>4</th>\n",
       "      <td>Pernod takeover talk lifts Domecq  Shares in U...</td>\n",
       "      <td>0</td>\n",
       "      <td>265</td>\n",
       "    </tr>\n",
       "  </tbody>\n",
       "</table>\n",
       "</div>"
      ],
      "text/plain": [
       "                                                news  labels  news_length\n",
       "0  Ad sales boost Time Warner profit  Quarterly p...       0          421\n",
       "1  Dollar gains on Greenspan speech  The dollar h...       0          384\n",
       "2  Yukos unit buyer faces loan claim  The owners ...       0          264\n",
       "3  High fuel prices hit BA's profits  British Air...       0          406\n",
       "4  Pernod takeover talk lifts Domecq  Shares in U...       0          265"
      ]
     },
     "execution_count": 14,
     "metadata": {},
     "output_type": "execute_result"
    }
   ],
   "source": [
    "#Initialize the label encoder object\n",
    "label_encoder = LabelEncoder()\n",
    "\n",
    "#Fit the label Encoder\n",
    "label_encoder.fit(df['labels'])\n",
    "\n",
    "#Encode the categorical data to numerical\n",
    "df['labels'] = label_encoder.transform(df['labels'])\n",
    "\n",
    "#show the transformed labels\n",
    "df.head()"
   ]
  },
  {
   "cell_type": "code",
   "execution_count": 15,
   "id": "b0d4b186",
   "metadata": {},
   "outputs": [
    {
     "name": "stdout",
     "output_type": "stream",
     "text": [
      "Unique Categories:['business', 'entertainment', 'politics', 'sport', 'tech']\n",
      "Trans Categories :[0 1 2 3 4]\n"
     ]
    }
   ],
   "source": [
    "# Print the categories and their respective labels\n",
    "print(f\"Unique Categories:{unique_category}\")\n",
    "print(f\"Trans Categories :{label_encoder.transform(unique_category)}\")"
   ]
  },
  {
   "cell_type": "markdown",
   "id": "1580b49c",
   "metadata": {},
   "source": [
    "# Convert DataFrame to HuggingFace Dataset"
   ]
  },
  {
   "cell_type": "code",
   "execution_count": 16,
   "id": "3e87ca01",
   "metadata": {},
   "outputs": [],
   "source": [
    "from datasets import Dataset"
   ]
  },
  {
   "cell_type": "code",
   "execution_count": 17,
   "id": "cb79c701",
   "metadata": {},
   "outputs": [
    {
     "data": {
      "text/html": [
       "<div>\n",
       "<style scoped>\n",
       "    .dataframe tbody tr th:only-of-type {\n",
       "        vertical-align: middle;\n",
       "    }\n",
       "\n",
       "    .dataframe tbody tr th {\n",
       "        vertical-align: top;\n",
       "    }\n",
       "\n",
       "    .dataframe thead th {\n",
       "        text-align: right;\n",
       "    }\n",
       "</style>\n",
       "<table border=\"1\" class=\"dataframe\">\n",
       "  <thead>\n",
       "    <tr style=\"text-align: right;\">\n",
       "      <th></th>\n",
       "      <th>news</th>\n",
       "      <th>labels</th>\n",
       "    </tr>\n",
       "  </thead>\n",
       "  <tbody>\n",
       "    <tr>\n",
       "      <th>0</th>\n",
       "      <td>Ad sales boost Time Warner profit  Quarterly p...</td>\n",
       "      <td>0</td>\n",
       "    </tr>\n",
       "    <tr>\n",
       "      <th>1</th>\n",
       "      <td>Dollar gains on Greenspan speech  The dollar h...</td>\n",
       "      <td>0</td>\n",
       "    </tr>\n",
       "    <tr>\n",
       "      <th>2</th>\n",
       "      <td>Yukos unit buyer faces loan claim  The owners ...</td>\n",
       "      <td>0</td>\n",
       "    </tr>\n",
       "    <tr>\n",
       "      <th>3</th>\n",
       "      <td>High fuel prices hit BA's profits  British Air...</td>\n",
       "      <td>0</td>\n",
       "    </tr>\n",
       "    <tr>\n",
       "      <th>4</th>\n",
       "      <td>Pernod takeover talk lifts Domecq  Shares in U...</td>\n",
       "      <td>0</td>\n",
       "    </tr>\n",
       "  </tbody>\n",
       "</table>\n",
       "</div>"
      ],
      "text/plain": [
       "                                                news  labels\n",
       "0  Ad sales boost Time Warner profit  Quarterly p...       0\n",
       "1  Dollar gains on Greenspan speech  The dollar h...       0\n",
       "2  Yukos unit buyer faces loan claim  The owners ...       0\n",
       "3  High fuel prices hit BA's profits  British Air...       0\n",
       "4  Pernod takeover talk lifts Domecq  Shares in U...       0"
      ]
     },
     "execution_count": 17,
     "metadata": {},
     "output_type": "execute_result"
    }
   ],
   "source": [
    "# Delete the news length column\n",
    "del df['news_length']\n",
    "\n",
    "# Print the dataframe\n",
    "df.head()"
   ]
  },
  {
   "cell_type": "code",
   "execution_count": 18,
   "id": "949cd71e",
   "metadata": {},
   "outputs": [
    {
     "data": {
      "text/plain": [
       "Dataset({\n",
       "    features: ['news', 'labels'],\n",
       "    num_rows: 2225\n",
       "})"
      ]
     },
     "execution_count": 18,
     "metadata": {},
     "output_type": "execute_result"
    }
   ],
   "source": [
    "#convert to hugging face dataset\n",
    "hf_data = Dataset.from_pandas(df)\n",
    "\n",
    "#show dataset\n",
    "hf_data"
   ]
  },
  {
   "cell_type": "markdown",
   "id": "738ca95a",
   "metadata": {},
   "source": [
    "# Tokenizing the articles"
   ]
  },
  {
   "cell_type": "code",
   "execution_count": 19,
   "id": "b7441656",
   "metadata": {},
   "outputs": [],
   "source": [
    "import torch\n",
    "from transformers  import AutoTokenizer"
   ]
  },
  {
   "cell_type": "code",
   "execution_count": 20,
   "id": "0bfea37c",
   "metadata": {},
   "outputs": [],
   "source": [
    "# Model checkpoint to use\n",
    "model_ckpt = \"distilbert-base-uncased\"\n",
    "\n",
    "# Set a device to load the tokenizer to\n",
    "device = torch.device(\"cuda\" if torch.cuda.is_available() else \"cpu\")\n",
    "\n",
    "# Initialize a tokenizer\n",
    "tokenizer = AutoTokenizer.from_pretrained(model_ckpt)"
   ]
  },
  {
   "cell_type": "markdown",
   "id": "4bcd560b",
   "metadata": {},
   "source": [
    "# Tokenize a single article"
   ]
  },
  {
   "cell_type": "code",
   "execution_count": 21,
   "id": "967fbdfa",
   "metadata": {},
   "outputs": [
    {
     "name": "stderr",
     "output_type": "stream",
     "text": [
      "Token indices sequence length is longer than the specified maximum sequence length for this model (573 > 512). Running this sequence through the model will result in indexing errors\n"
     ]
    },
    {
     "data": {
      "text/plain": [
       "{'input_ids': [101, 4748, 4341, 12992, 2051, 6654, 5618, 12174, 11372, 2012, 2149, 2865, 5016, 2051, 9028, 3678, 5598, 6146, 1003, 2000, 1002, 1015, 1012, 2410, 24700, 1006, 1037, 29646, 16086, 2692, 2213, 1007, 2005, 1996, 2093, 2706, 2000, 2285, 1010, 2013, 1002, 6191, 2683, 2213, 2095, 1011, 3041, 1012, 1996, 3813, 1010, 2029, 2003, 2085, 2028, 1997, 1996, 5221, 9387, 1999, 8224, 1010, 19727, 2013, 4341, 1997, 2152, 1011, 3177, 4274, 7264, 1998, 3020, 4748, 16874, 4341, 1012, 2051, 9028, 3678, 2056, 2959, 4284, 4341, 3123, 1016, 1003, 2000, 1002, 2340, 1012, 26314, 2078, 2013, 1002, 2184, 1012, 1023, 24700, 1012, 2049, 11372, 2020, 20934, 6977, 2098, 2011, 2028, 1011, 2125, 12154, 2029, 16396, 1037, 5618, 16510, 2012, 6654, 10243, 1010, 1998, 2625, 5198, 2005, 20118, 2140, 1012, 2051, 6654, 2056, 2006, 5958, 2008, 2009, 2085, 8617, 1022, 1003, 1997, 3945, 1011, 3194, 8224, 1012, 2021, 2049, 2219, 4274, 2449, 1010, 20118, 2140, 1010, 2018, 2038, 3816, 18023, 1012, 2009, 2439, 4805, 2549, 1010, 2199, 17073, 1999, 1996, 2959, 4284, 11372, 2020, 2896, 2084, 1999, 1996, 11003, 2093, 7728, 1012, 2174, 1010, 1996, 2194, 2056, 20118, 2140, 1005, 1055, 10318, 5618, 2077, 11813, 5167, 3123, 1022, 1003, 2006, 1996, 2067, 1997, 6428, 4274, 6475, 12594, 1012, 2009, 8069, 2000, 3623, 17073, 2011, 5378, 1996, 3784, 2326, 2489, 2000, 2051, 9028, 3678, 4274, 6304, 1998, 2097, 3046, 2000, 3696, 2039, 20118, 2140, 1005, 1055, 4493, 6304, 2005, 2152, 1011, 3177, 19595, 1012, 2051, 9028, 3678, 2036, 2038, 2000, 2717, 3686, 2456, 1998, 2494, 3463, 2206, 1037, 15113, 2011, 1996, 2149, 12012, 3863, 3222, 1006, 10819, 1007, 1010, 2029, 2003, 2485, 2000, 16228, 1012, 2051, 6654, 1005, 1055, 2959, 4284, 11372, 2020, 3621, 2488, 2084, 18288, 1005, 10908, 1012, 2021, 2049, 2143, 2407, 2387, 11372, 28702, 2676, 1003, 2000, 1002, 26871, 2213, 1010, 3271, 2011, 3482, 1011, 2436, 28583, 2015, 3656, 1998, 4937, 10169, 1010, 1037, 4629, 5688, 2000, 2095, 1011, 3041, 1010, 2043, 1996, 2353, 1998, 2345, 2143, 1999, 1996, 2935, 1997, 1996, 7635, 11544, 28043, 3463, 1012, 2005, 1996, 2440, 1011, 2095, 1010, 2051, 9028, 3678, 6866, 1037, 5618, 1997, 1002, 1017, 1012, 4029, 24700, 1010, 2039, 2676, 1003, 2013, 2049, 2494, 2836, 1010, 2096, 12594, 3473, 1020, 1012, 1018, 1003, 2000, 1002, 4413, 1012, 5641, 24700, 1012, 1000, 2256, 3361, 2836, 2001, 2844, 1010, 3116, 2030, 17003, 2035, 1997, 2256, 2440, 1011, 2095, 11100, 1998, 6551, 20226, 2256, 16991, 1010, 1000, 3472, 1998, 2708, 3237, 2957, 13505, 2056, 1012, 2005, 2384, 1010, 2051, 9028, 3678, 2003, 18398, 4082, 16565, 3930, 1997, 2105, 1019, 1003, 1010, 1998, 2036, 24273, 3020, 6599, 1998, 7289, 5618, 17034, 1012, 2051, 9028, 3678, 2003, 2000, 2717, 3686, 2049, 6115, 2004, 2112, 1997, 4073, 2000, 10663, 2019, 9934, 2046, 20118, 2140, 2011, 2149, 3006, 25644, 1012, 2009, 2038, 2525, 3253, 2000, 3477, 1002, 3998, 2213, 2000, 7392, 5571, 1010, 1999, 1037, 3066, 2008, 2003, 2104, 3319, 2011, 1996, 10819, 1012, 1996, 2194, 2056, 2009, 2001, 4039, 2000, 10197, 1996, 3815, 2009, 2734, 2000, 2275, 4998, 2005, 3423, 8269, 1010, 2029, 2009, 3130, 2275, 2012, 1002, 3156, 2213, 1012, 2009, 18754, 2000, 14171, 1996, 2126, 2009, 6115, 2005, 1037, 3066, 2007, 2446, 2189, 6674, 14324, 9050, 5804, 1005, 1055, 5309, 1997, 1037, 8406, 1999, 20118, 2140, 2885, 1010, 2029, 2009, 2018, 2988, 2004, 6475, 6599, 1012, 2009, 2097, 2085, 2338, 1996, 5096, 1997, 2049, 8406, 1999, 20118, 2140, 2885, 2004, 1037, 3279, 2006, 1996, 3643, 1997, 2008, 8406, 1012, 102], 'attention_mask': [1, 1, 1, 1, 1, 1, 1, 1, 1, 1, 1, 1, 1, 1, 1, 1, 1, 1, 1, 1, 1, 1, 1, 1, 1, 1, 1, 1, 1, 1, 1, 1, 1, 1, 1, 1, 1, 1, 1, 1, 1, 1, 1, 1, 1, 1, 1, 1, 1, 1, 1, 1, 1, 1, 1, 1, 1, 1, 1, 1, 1, 1, 1, 1, 1, 1, 1, 1, 1, 1, 1, 1, 1, 1, 1, 1, 1, 1, 1, 1, 1, 1, 1, 1, 1, 1, 1, 1, 1, 1, 1, 1, 1, 1, 1, 1, 1, 1, 1, 1, 1, 1, 1, 1, 1, 1, 1, 1, 1, 1, 1, 1, 1, 1, 1, 1, 1, 1, 1, 1, 1, 1, 1, 1, 1, 1, 1, 1, 1, 1, 1, 1, 1, 1, 1, 1, 1, 1, 1, 1, 1, 1, 1, 1, 1, 1, 1, 1, 1, 1, 1, 1, 1, 1, 1, 1, 1, 1, 1, 1, 1, 1, 1, 1, 1, 1, 1, 1, 1, 1, 1, 1, 1, 1, 1, 1, 1, 1, 1, 1, 1, 1, 1, 1, 1, 1, 1, 1, 1, 1, 1, 1, 1, 1, 1, 1, 1, 1, 1, 1, 1, 1, 1, 1, 1, 1, 1, 1, 1, 1, 1, 1, 1, 1, 1, 1, 1, 1, 1, 1, 1, 1, 1, 1, 1, 1, 1, 1, 1, 1, 1, 1, 1, 1, 1, 1, 1, 1, 1, 1, 1, 1, 1, 1, 1, 1, 1, 1, 1, 1, 1, 1, 1, 1, 1, 1, 1, 1, 1, 1, 1, 1, 1, 1, 1, 1, 1, 1, 1, 1, 1, 1, 1, 1, 1, 1, 1, 1, 1, 1, 1, 1, 1, 1, 1, 1, 1, 1, 1, 1, 1, 1, 1, 1, 1, 1, 1, 1, 1, 1, 1, 1, 1, 1, 1, 1, 1, 1, 1, 1, 1, 1, 1, 1, 1, 1, 1, 1, 1, 1, 1, 1, 1, 1, 1, 1, 1, 1, 1, 1, 1, 1, 1, 1, 1, 1, 1, 1, 1, 1, 1, 1, 1, 1, 1, 1, 1, 1, 1, 1, 1, 1, 1, 1, 1, 1, 1, 1, 1, 1, 1, 1, 1, 1, 1, 1, 1, 1, 1, 1, 1, 1, 1, 1, 1, 1, 1, 1, 1, 1, 1, 1, 1, 1, 1, 1, 1, 1, 1, 1, 1, 1, 1, 1, 1, 1, 1, 1, 1, 1, 1, 1, 1, 1, 1, 1, 1, 1, 1, 1, 1, 1, 1, 1, 1, 1, 1, 1, 1, 1, 1, 1, 1, 1, 1, 1, 1, 1, 1, 1, 1, 1, 1, 1, 1, 1, 1, 1, 1, 1, 1, 1, 1, 1, 1, 1, 1, 1, 1, 1, 1, 1, 1, 1, 1, 1, 1, 1, 1, 1, 1, 1, 1, 1, 1, 1, 1, 1, 1, 1, 1, 1, 1, 1, 1, 1, 1, 1, 1, 1, 1, 1, 1, 1, 1, 1, 1, 1, 1, 1, 1, 1, 1, 1, 1, 1, 1, 1, 1, 1, 1, 1, 1, 1, 1, 1, 1, 1, 1, 1, 1, 1, 1, 1, 1, 1, 1, 1, 1, 1, 1, 1, 1, 1, 1, 1, 1, 1, 1, 1, 1, 1, 1, 1, 1, 1, 1, 1, 1, 1, 1, 1, 1, 1, 1, 1, 1, 1, 1, 1, 1, 1, 1, 1, 1, 1, 1, 1, 1, 1, 1, 1, 1, 1, 1, 1, 1, 1, 1, 1, 1, 1, 1]}"
      ]
     },
     "execution_count": 21,
     "metadata": {},
     "output_type": "execute_result"
    }
   ],
   "source": [
    "#tokenize a single text\n",
    "tokenized_record = tokenizer(hf_data['news'][0])\n",
    "\n",
    "#print the tokenized record\n",
    "tokenized_record"
   ]
  },
  {
   "cell_type": "markdown",
   "id": "35299763",
   "metadata": {},
   "source": [
    "The tokenizer has returned a dictionary with 2 keys: input_ids and attention_mask.\n",
    "The input_ids are the actual tokenized text, where each word is mapped to an integer.\n",
    "The attention_mask on the other hand is a binary tensor that tells the model which input_id to attend and which to skip. 1 means that its corresponding input_id is a word, and 0 means its corresponding input_id is a padded value.\n",
    "This helps the model to ignore/mask certain parts of the inputs during training and inference which saves time and resources."
   ]
  },
  {
   "cell_type": "markdown",
   "id": "4a85bc0b",
   "metadata": {},
   "source": [
    "# Comparing the length of article before and after tokenization"
   ]
  },
  {
   "cell_type": "code",
   "execution_count": 22,
   "id": "08f4083e",
   "metadata": {},
   "outputs": [
    {
     "name": "stdout",
     "output_type": "stream",
     "text": [
      "Length before tokenization: 421\n",
      "Length after tokenization: 573\n"
     ]
    }
   ],
   "source": [
    "print('Length before tokenization:',len(hf_data['news'][0].split()))\n",
    "print('Length after tokenization:',len(tokenized_record.input_ids))"
   ]
  },
  {
   "cell_type": "markdown",
   "id": "17b27d3d",
   "metadata": {},
   "source": [
    "We can see that the lenth of the articles has increased after tokenization, this is because of the tokenization nature DistilBERT's tokenizer, let's compare the raw text and the tokenized text to understand in detail."
   ]
  },
  {
   "cell_type": "code",
   "execution_count": 23,
   "id": "79503fed",
   "metadata": {},
   "outputs": [
    {
     "name": "stdout",
     "output_type": "stream",
     "text": [
      "Raw Article:\n",
      "Ad sales boost Time Warner profit  Quarterly profits at US media giant TimeWarner jumped 76% to $1.13bn (Â£600m) for the three months to December, from $639m year-earlier.  The firm, which is now one of the biggest investors in Google, benefited from sales of high-speed internet connections and higher advert sales. TimeWarner said fourth quarter sales rose 2% to $11.1bn from $10.9bn. Its profits were buoyed by one-off gains which offset a profit dip at Warner Bros, and less users for AOL.  Time Warner said on Friday that it now owns 8% of search-engine Google. But its own internet business, AOL, had has mixed fortunes. It lost 464,000 subscribers in the fourth quarter profits were lower than in the preceding three quarters. However, the company said AOL's underlying profit before exceptional items rose 8% on the back of stronger internet advertising revenues. It hopes to increase subscribers by offering the online service free to TimeWarner internet customers and will try to sign up AOL's existing customers for high-speed broadband. TimeWarner also has to restate 2000 and 2003 results following a probe by the US Securities Exchange Commission (SEC), which is close to concluding.  Time Warner's fourth quarter profits were slightly better than analysts' expectations. But its film division saw profits slump 27% to $284m, helped by box-office flops Alexander and Catwoman, a sharp contrast to year-earlier, when the third and final film in the Lord of the Rings trilogy boosted results. For the full-year, TimeWarner posted a profit of $3.36bn, up 27% from its 2003 performance, while revenues grew 6.4% to $42.09bn. \"Our financial performance was strong, meeting or exceeding all of our full-year objectives and greatly enhancing our flexibility,\" chairman and chief executive Richard Parsons said. For 2005, TimeWarner is projecting operating earnings growth of around 5%, and also expects higher revenue and wider profit margins.  TimeWarner is to restate its accounts as part of efforts to resolve an inquiry into AOL by US market regulators. It has already offered to pay $300m to settle charges, in a deal that is under review by the SEC. The company said it was unable to estimate the amount it needed to set aside for legal reserves, which it previously set at $500m. It intends to adjust the way it accounts for a deal with German music publisher Bertelsmann's purchase of a stake in AOL Europe, which it had reported as advertising revenue. It will now book the sale of its stake in AOL Europe as a loss on the value of that stake. \n",
      "\n",
      "Raw Text to Input IDs:\n",
      "[101, 4748, 4341, 12992, 2051, 6654, 5618, 12174, 11372, 2012, 2149, 2865, 5016, 2051, 9028, 3678, 5598, 6146, 1003, 2000, 1002, 1015, 1012, 2410, 24700, 1006, 1037, 29646, 16086, 2692, 2213, 1007, 2005, 1996, 2093, 2706, 2000, 2285, 1010, 2013, 1002, 6191, 2683, 2213, 2095, 1011, 3041, 1012, 1996, 3813, 1010, 2029, 2003, 2085, 2028, 1997, 1996, 5221, 9387, 1999, 8224, 1010, 19727, 2013, 4341, 1997, 2152, 1011, 3177, 4274, 7264, 1998, 3020, 4748, 16874, 4341, 1012, 2051, 9028, 3678, 2056, 2959, 4284, 4341, 3123, 1016, 1003, 2000, 1002, 2340, 1012, 26314, 2078, 2013, 1002, 2184, 1012, 1023, 24700, 1012, 2049, 11372, 2020, 20934, 6977, 2098, 2011, 2028, 1011, 2125, 12154, 2029, 16396, 1037, 5618, 16510, 2012, 6654, 10243, 1010, 1998, 2625, 5198, 2005, 20118, 2140, 1012, 2051, 6654, 2056, 2006, 5958, 2008, 2009, 2085, 8617, 1022, 1003, 1997, 3945, 1011, 3194, 8224, 1012, 2021, 2049, 2219, 4274, 2449, 1010, 20118, 2140, 1010, 2018, 2038, 3816, 18023, 1012, 2009, 2439, 4805, 2549, 1010, 2199, 17073, 1999, 1996, 2959, 4284, 11372, 2020, 2896, 2084, 1999, 1996, 11003, 2093, 7728, 1012, 2174, 1010, 1996, 2194, 2056, 20118, 2140, 1005, 1055, 10318, 5618, 2077, 11813, 5167, 3123, 1022, 1003, 2006, 1996, 2067, 1997, 6428, 4274, 6475, 12594, 1012, 2009, 8069, 2000, 3623, 17073, 2011, 5378, 1996, 3784, 2326, 2489, 2000, 2051, 9028, 3678, 4274, 6304, 1998, 2097, 3046, 2000, 3696, 2039, 20118, 2140, 1005, 1055, 4493, 6304, 2005, 2152, 1011, 3177, 19595, 1012, 2051, 9028, 3678, 2036, 2038, 2000, 2717, 3686, 2456, 1998, 2494, 3463, 2206, 1037, 15113, 2011, 1996, 2149, 12012, 3863, 3222, 1006, 10819, 1007, 1010, 2029, 2003, 2485, 2000, 16228, 1012, 2051, 6654, 1005, 1055, 2959, 4284, 11372, 2020, 3621, 2488, 2084, 18288, 1005, 10908, 1012, 2021, 2049, 2143, 2407, 2387, 11372, 28702, 2676, 1003, 2000, 1002, 26871, 2213, 1010, 3271, 2011, 3482, 1011, 2436, 28583, 2015, 3656, 1998, 4937, 10169, 1010, 1037, 4629, 5688, 2000, 2095, 1011, 3041, 1010, 2043, 1996, 2353, 1998, 2345, 2143, 1999, 1996, 2935, 1997, 1996, 7635, 11544, 28043, 3463, 1012, 2005, 1996, 2440, 1011, 2095, 1010, 2051, 9028, 3678, 6866, 1037, 5618, 1997, 1002, 1017, 1012, 4029, 24700, 1010, 2039, 2676, 1003, 2013, 2049, 2494, 2836, 1010, 2096, 12594, 3473, 1020, 1012, 1018, 1003, 2000, 1002, 4413, 1012, 5641, 24700, 1012, 1000, 2256, 3361, 2836, 2001, 2844, 1010, 3116, 2030, 17003, 2035, 1997, 2256, 2440, 1011, 2095, 11100, 1998, 6551, 20226, 2256, 16991, 1010, 1000, 3472, 1998, 2708, 3237, 2957, 13505, 2056, 1012, 2005, 2384, 1010, 2051, 9028, 3678, 2003, 18398, 4082, 16565, 3930, 1997, 2105, 1019, 1003, 1010, 1998, 2036, 24273, 3020, 6599, 1998, 7289, 5618, 17034, 1012, 2051, 9028, 3678, 2003, 2000, 2717, 3686, 2049, 6115, 2004, 2112, 1997, 4073, 2000, 10663, 2019, 9934, 2046, 20118, 2140, 2011, 2149, 3006, 25644, 1012, 2009, 2038, 2525, 3253, 2000, 3477, 1002, 3998, 2213, 2000, 7392, 5571, 1010, 1999, 1037, 3066, 2008, 2003, 2104, 3319, 2011, 1996, 10819, 1012, 1996, 2194, 2056, 2009, 2001, 4039, 2000, 10197, 1996, 3815, 2009, 2734, 2000, 2275, 4998, 2005, 3423, 8269, 1010, 2029, 2009, 3130, 2275, 2012, 1002, 3156, 2213, 1012, 2009, 18754, 2000, 14171, 1996, 2126, 2009, 6115, 2005, 1037, 3066, 2007, 2446, 2189, 6674, 14324, 9050, 5804, 1005, 1055, 5309, 1997, 1037, 8406, 1999, 20118, 2140, 2885, 1010, 2029, 2009, 2018, 2988, 2004, 6475, 6599, 1012, 2009, 2097, 2085, 2338, 1996, 5096, 1997, 2049, 8406, 1999, 20118, 2140, 2885, 2004, 1037, 3279, 2006, 1996, 3643, 1997, 2008, 8406, 1012, 102]\n",
      "\n",
      "Input IDs to Words:\n",
      "[CLS] ad sales boost time warner profit quarterly profits at us media giant time ##war ##ner jumped 76 % to $ 1 . 13 ##bn ( a ##£ ##60 ##0 ##m ) for the three months to december , from $ 63 ##9 ##m year - earlier . the firm , which is now one of the biggest investors in google , benefited from sales of high - speed internet connections and higher ad ##vert sales . time ##war ##ner said fourth quarter sales rose 2 % to $ 11 . 1b ##n from $ 10 . 9 ##bn . its profits were bu ##oy ##ed by one - off gains which offset a profit dip at warner bros , and less users for ao ##l . time warner said on friday that it now owns 8 % of search - engine google . but its own internet business , ao ##l , had has mixed fortunes . it lost 46 ##4 , 000 subscribers in the fourth quarter profits were lower than in the preceding three quarters . however , the company said ao ##l ' s underlying profit before exceptional items rose 8 % on the back of stronger internet advertising revenues . it hopes to increase subscribers by offering the online service free to time ##war ##ner internet customers and will try to sign up ao ##l ' s existing customers for high - speed broadband . time ##war ##ner also has to rest ##ate 2000 and 2003 results following a probe by the us securities exchange commission ( sec ) , which is close to concluding . time warner ' s fourth quarter profits were slightly better than analysts ' expectations . but its film division saw profits slump 27 % to $ 284 ##m , helped by box - office flop ##s alexander and cat ##woman , a sharp contrast to year - earlier , when the third and final film in the lord of the rings trilogy boosted results . for the full - year , time ##war ##ner posted a profit of $ 3 . 36 ##bn , up 27 % from its 2003 performance , while revenues grew 6 . 4 % to $ 42 . 09 ##bn . \" our financial performance was strong , meeting or exceeding all of our full - year objectives and greatly enhancing our flexibility , \" chairman and chief executive richard parsons said . for 2005 , time ##war ##ner is projecting operating earnings growth of around 5 % , and also expects higher revenue and wider profit margins . time ##war ##ner is to rest ##ate its accounts as part of efforts to resolve an inquiry into ao ##l by us market regulators . it has already offered to pay $ 300 ##m to settle charges , in a deal that is under review by the sec . the company said it was unable to estimate the amount it needed to set aside for legal reserves , which it previously set at $ 500 ##m . it intends to adjust the way it accounts for a deal with german music publisher bert ##els ##mann ' s purchase of a stake in ao ##l europe , which it had reported as advertising revenue . it will now book the sale of its stake in ao ##l europe as a loss on the value of that stake . [SEP]\n"
     ]
    }
   ],
   "source": [
    "# Convert the input_ids to tokens/words\n",
    "tokenized_tokens = tokenizer.convert_ids_to_tokens(tokenized_record.input_ids)\n",
    "\n",
    "# Convert the list of tokenized words to a single text\n",
    "tokenized_text = \" \".join(tokenized_tokens)\n",
    "\n",
    "# Print the untokenized raw text\n",
    "print(\"Raw Article:\")\n",
    "print(hf_data['news'][0], end='\\n\\n')\n",
    "\n",
    "# Print the input_ids\n",
    "print(\"Raw Text to Input IDs:\")\n",
    "print(tokenized_record.input_ids, end=\"\\n\\n\")\n",
    "\n",
    "# Print the tokenized tokens\n",
    "print(\"Input IDs to Words:\")\n",
    "print(tokenized_text)"
   ]
  },
  {
   "cell_type": "markdown",
   "id": "7bc1864b",
   "metadata": {},
   "source": [
    "We can observe a few things here, firstly we can see that [CLS] and [SEP] token is added in the start and end respectively, which indicates the start and the end of the sequence.\n",
    "Secondly, all the tokens has been converted to lowercase.\n",
    "Finally, we can see that in many places the tokenizer has added the ## signs as prefix in many places. It means that preceeding string is not whitespace, any token with ## prefix needs to be merged with its previous token.\n",
    "Additional Notes: This type of tokenization is called as Subword Tokenization. To know more about it please referer to the Subword Tokenization space in this huggingface documentation - https://huggingface.co/docs/transformers/tokenizer_summary"
   ]
  },
  {
   "cell_type": "markdown",
   "id": "1c36a7fc",
   "metadata": {},
   "source": [
    "We know that the DistilBERT's max context size is 512 and we have a lot of articles with length more than that as we saw in the box plot.\n",
    "In order to handle this issue we need to trucate the articles we discussed, and to implement it the tokenizer takes an argument called truncation which takes a boolean value and truncates the text according to the model's max context size.\n",
    "We also saw that there are a lot of articles with length less than that of the DistilBERT's max context size.\n",
    "In order to handle this issue we need to use the padding concept and to implement it the tokenizer takes an additional argument called padding which also takes a boolean value and applies padding according to the model's max context size"
   ]
  },
  {
   "cell_type": "markdown",
   "id": "a24a92bf",
   "metadata": {},
   "source": [
    "# Tokenize single article with truncation and padding"
   ]
  },
  {
   "cell_type": "code",
   "execution_count": 24,
   "id": "f5e806f8",
   "metadata": {},
   "outputs": [
    {
     "data": {
      "text/plain": [
       "{'input_ids': [101, 4748, 4341, 12992, 2051, 6654, 5618, 12174, 11372, 2012, 2149, 2865, 5016, 2051, 9028, 3678, 5598, 6146, 1003, 2000, 1002, 1015, 1012, 2410, 24700, 1006, 1037, 29646, 16086, 2692, 2213, 1007, 2005, 1996, 2093, 2706, 2000, 2285, 1010, 2013, 1002, 6191, 2683, 2213, 2095, 1011, 3041, 1012, 1996, 3813, 1010, 2029, 2003, 2085, 2028, 1997, 1996, 5221, 9387, 1999, 8224, 1010, 19727, 2013, 4341, 1997, 2152, 1011, 3177, 4274, 7264, 1998, 3020, 4748, 16874, 4341, 1012, 2051, 9028, 3678, 2056, 2959, 4284, 4341, 3123, 1016, 1003, 2000, 1002, 2340, 1012, 26314, 2078, 2013, 1002, 2184, 1012, 1023, 24700, 1012, 2049, 11372, 2020, 20934, 6977, 2098, 2011, 2028, 1011, 2125, 12154, 2029, 16396, 1037, 5618, 16510, 2012, 6654, 10243, 1010, 1998, 2625, 5198, 2005, 20118, 2140, 1012, 2051, 6654, 2056, 2006, 5958, 2008, 2009, 2085, 8617, 1022, 1003, 1997, 3945, 1011, 3194, 8224, 1012, 2021, 2049, 2219, 4274, 2449, 1010, 20118, 2140, 1010, 2018, 2038, 3816, 18023, 1012, 2009, 2439, 4805, 2549, 1010, 2199, 17073, 1999, 1996, 2959, 4284, 11372, 2020, 2896, 2084, 1999, 1996, 11003, 2093, 7728, 1012, 2174, 1010, 1996, 2194, 2056, 20118, 2140, 1005, 1055, 10318, 5618, 2077, 11813, 5167, 3123, 1022, 1003, 2006, 1996, 2067, 1997, 6428, 4274, 6475, 12594, 1012, 2009, 8069, 2000, 3623, 17073, 2011, 5378, 1996, 3784, 2326, 2489, 2000, 2051, 9028, 3678, 4274, 6304, 1998, 2097, 3046, 2000, 3696, 2039, 20118, 2140, 1005, 1055, 4493, 6304, 2005, 2152, 1011, 3177, 19595, 1012, 2051, 9028, 3678, 2036, 2038, 2000, 2717, 3686, 2456, 1998, 2494, 3463, 2206, 1037, 15113, 2011, 1996, 2149, 12012, 3863, 3222, 1006, 10819, 1007, 1010, 2029, 2003, 2485, 2000, 16228, 1012, 2051, 6654, 1005, 1055, 2959, 4284, 11372, 2020, 3621, 2488, 2084, 18288, 1005, 10908, 1012, 2021, 2049, 2143, 2407, 2387, 11372, 28702, 2676, 1003, 2000, 1002, 26871, 2213, 1010, 3271, 2011, 3482, 1011, 2436, 28583, 2015, 3656, 1998, 4937, 10169, 1010, 1037, 4629, 5688, 2000, 2095, 1011, 3041, 1010, 2043, 1996, 2353, 1998, 2345, 2143, 1999, 1996, 2935, 1997, 1996, 7635, 11544, 28043, 3463, 1012, 2005, 1996, 2440, 1011, 2095, 1010, 2051, 9028, 3678, 6866, 1037, 5618, 1997, 1002, 1017, 1012, 4029, 24700, 1010, 2039, 2676, 1003, 2013, 2049, 2494, 2836, 1010, 2096, 12594, 3473, 1020, 1012, 1018, 1003, 2000, 1002, 4413, 1012, 5641, 24700, 1012, 1000, 2256, 3361, 2836, 2001, 2844, 1010, 3116, 2030, 17003, 2035, 1997, 2256, 2440, 1011, 2095, 11100, 1998, 6551, 20226, 2256, 16991, 1010, 1000, 3472, 1998, 2708, 3237, 2957, 13505, 2056, 1012, 2005, 2384, 1010, 2051, 9028, 3678, 2003, 18398, 4082, 16565, 3930, 1997, 2105, 1019, 1003, 1010, 1998, 2036, 24273, 3020, 6599, 1998, 7289, 5618, 17034, 1012, 2051, 9028, 3678, 2003, 2000, 2717, 3686, 2049, 6115, 2004, 2112, 1997, 4073, 2000, 10663, 2019, 9934, 2046, 20118, 2140, 2011, 2149, 3006, 25644, 1012, 2009, 2038, 2525, 3253, 2000, 3477, 1002, 3998, 2213, 2000, 7392, 5571, 1010, 1999, 1037, 3066, 2008, 2003, 2104, 3319, 2011, 1996, 10819, 1012, 1996, 2194, 2056, 2009, 2001, 4039, 2000, 10197, 1996, 3815, 2009, 2734, 2000, 2275, 4998, 2005, 3423, 8269, 1010, 2029, 2009, 3130, 2275, 2012, 1002, 3156, 2213, 102], 'attention_mask': [1, 1, 1, 1, 1, 1, 1, 1, 1, 1, 1, 1, 1, 1, 1, 1, 1, 1, 1, 1, 1, 1, 1, 1, 1, 1, 1, 1, 1, 1, 1, 1, 1, 1, 1, 1, 1, 1, 1, 1, 1, 1, 1, 1, 1, 1, 1, 1, 1, 1, 1, 1, 1, 1, 1, 1, 1, 1, 1, 1, 1, 1, 1, 1, 1, 1, 1, 1, 1, 1, 1, 1, 1, 1, 1, 1, 1, 1, 1, 1, 1, 1, 1, 1, 1, 1, 1, 1, 1, 1, 1, 1, 1, 1, 1, 1, 1, 1, 1, 1, 1, 1, 1, 1, 1, 1, 1, 1, 1, 1, 1, 1, 1, 1, 1, 1, 1, 1, 1, 1, 1, 1, 1, 1, 1, 1, 1, 1, 1, 1, 1, 1, 1, 1, 1, 1, 1, 1, 1, 1, 1, 1, 1, 1, 1, 1, 1, 1, 1, 1, 1, 1, 1, 1, 1, 1, 1, 1, 1, 1, 1, 1, 1, 1, 1, 1, 1, 1, 1, 1, 1, 1, 1, 1, 1, 1, 1, 1, 1, 1, 1, 1, 1, 1, 1, 1, 1, 1, 1, 1, 1, 1, 1, 1, 1, 1, 1, 1, 1, 1, 1, 1, 1, 1, 1, 1, 1, 1, 1, 1, 1, 1, 1, 1, 1, 1, 1, 1, 1, 1, 1, 1, 1, 1, 1, 1, 1, 1, 1, 1, 1, 1, 1, 1, 1, 1, 1, 1, 1, 1, 1, 1, 1, 1, 1, 1, 1, 1, 1, 1, 1, 1, 1, 1, 1, 1, 1, 1, 1, 1, 1, 1, 1, 1, 1, 1, 1, 1, 1, 1, 1, 1, 1, 1, 1, 1, 1, 1, 1, 1, 1, 1, 1, 1, 1, 1, 1, 1, 1, 1, 1, 1, 1, 1, 1, 1, 1, 1, 1, 1, 1, 1, 1, 1, 1, 1, 1, 1, 1, 1, 1, 1, 1, 1, 1, 1, 1, 1, 1, 1, 1, 1, 1, 1, 1, 1, 1, 1, 1, 1, 1, 1, 1, 1, 1, 1, 1, 1, 1, 1, 1, 1, 1, 1, 1, 1, 1, 1, 1, 1, 1, 1, 1, 1, 1, 1, 1, 1, 1, 1, 1, 1, 1, 1, 1, 1, 1, 1, 1, 1, 1, 1, 1, 1, 1, 1, 1, 1, 1, 1, 1, 1, 1, 1, 1, 1, 1, 1, 1, 1, 1, 1, 1, 1, 1, 1, 1, 1, 1, 1, 1, 1, 1, 1, 1, 1, 1, 1, 1, 1, 1, 1, 1, 1, 1, 1, 1, 1, 1, 1, 1, 1, 1, 1, 1, 1, 1, 1, 1, 1, 1, 1, 1, 1, 1, 1, 1, 1, 1, 1, 1, 1, 1, 1, 1, 1, 1, 1, 1, 1, 1, 1, 1, 1, 1, 1, 1, 1, 1, 1, 1, 1, 1, 1, 1, 1, 1, 1, 1, 1, 1, 1, 1, 1, 1, 1, 1, 1, 1, 1, 1, 1, 1, 1, 1, 1, 1, 1, 1, 1, 1, 1, 1, 1, 1, 1, 1, 1, 1, 1, 1, 1, 1, 1, 1, 1, 1, 1, 1, 1, 1, 1]}"
      ]
     },
     "execution_count": 24,
     "metadata": {},
     "output_type": "execute_result"
    }
   ],
   "source": [
    "#tokenize a single text\n",
    "tokenized_record_wtp = tokenizer(hf_data['news'][0],truncation=True,padding=True)\n",
    "#print the tokenized record\n",
    "tokenized_record_wtp"
   ]
  },
  {
   "cell_type": "markdown",
   "id": "c5032438",
   "metadata": {},
   "source": [
    "# Compare the length of articles before and after tokenization with truncation and padding"
   ]
  },
  {
   "cell_type": "code",
   "execution_count": 25,
   "id": "14292c07",
   "metadata": {},
   "outputs": [
    {
     "name": "stdout",
     "output_type": "stream",
     "text": [
      "Length before tokenization:  421\n",
      "Length after tokenization:  512\n"
     ]
    }
   ],
   "source": [
    "print(\"Length before tokenization: \", len(hf_data['news'][0].split()))\n",
    "print(\"Length after tokenization: \", len(tokenized_record_wtp.input_ids))"
   ]
  },
  {
   "cell_type": "markdown",
   "id": "9c5808f2",
   "metadata": {},
   "source": [
    "Length before tokenization:  421\n",
    "\n",
    "Length after tokenization:  512"
   ]
  },
  {
   "cell_type": "markdown",
   "id": "975bf5c6",
   "metadata": {},
   "source": [
    "We can see that the length of the text has been truncated from 573 to 512\n",
    "This step results in information loss as many tokens are simply dropped"
   ]
  },
  {
   "cell_type": "markdown",
   "id": "aa235acf",
   "metadata": {},
   "source": [
    "# Check how the text is tokenized with truncation and padding"
   ]
  },
  {
   "cell_type": "code",
   "execution_count": 26,
   "id": "5ae39a21",
   "metadata": {},
   "outputs": [
    {
     "name": "stdout",
     "output_type": "stream",
     "text": [
      "Raw Article:\n",
      "Ad sales boost Time Warner profit  Quarterly profits at US media giant TimeWarner jumped 76% to $1.13bn (Â£600m) for the three months to December, from $639m year-earlier.  The firm, which is now one of the biggest investors in Google, benefited from sales of high-speed internet connections and higher advert sales. TimeWarner said fourth quarter sales rose 2% to $11.1bn from $10.9bn. Its profits were buoyed by one-off gains which offset a profit dip at Warner Bros, and less users for AOL.  Time Warner said on Friday that it now owns 8% of search-engine Google. But its own internet business, AOL, had has mixed fortunes. It lost 464,000 subscribers in the fourth quarter profits were lower than in the preceding three quarters. However, the company said AOL's underlying profit before exceptional items rose 8% on the back of stronger internet advertising revenues. It hopes to increase subscribers by offering the online service free to TimeWarner internet customers and will try to sign up AOL's existing customers for high-speed broadband. TimeWarner also has to restate 2000 and 2003 results following a probe by the US Securities Exchange Commission (SEC), which is close to concluding.  Time Warner's fourth quarter profits were slightly better than analysts' expectations. But its film division saw profits slump 27% to $284m, helped by box-office flops Alexander and Catwoman, a sharp contrast to year-earlier, when the third and final film in the Lord of the Rings trilogy boosted results. For the full-year, TimeWarner posted a profit of $3.36bn, up 27% from its 2003 performance, while revenues grew 6.4% to $42.09bn. \"Our financial performance was strong, meeting or exceeding all of our full-year objectives and greatly enhancing our flexibility,\" chairman and chief executive Richard Parsons said. For 2005, TimeWarner is projecting operating earnings growth of around 5%, and also expects higher revenue and wider profit margins.  TimeWarner is to restate its accounts as part of efforts to resolve an inquiry into AOL by US market regulators. It has already offered to pay $300m to settle charges, in a deal that is under review by the SEC. The company said it was unable to estimate the amount it needed to set aside for legal reserves, which it previously set at $500m. It intends to adjust the way it accounts for a deal with German music publisher Bertelsmann's purchase of a stake in AOL Europe, which it had reported as advertising revenue. It will now book the sale of its stake in AOL Europe as a loss on the value of that stake. \n",
      "\n",
      "Raw Text to Input IDs:\n",
      "[101, 4748, 4341, 12992, 2051, 6654, 5618, 12174, 11372, 2012, 2149, 2865, 5016, 2051, 9028, 3678, 5598, 6146, 1003, 2000, 1002, 1015, 1012, 2410, 24700, 1006, 1037, 29646, 16086, 2692, 2213, 1007, 2005, 1996, 2093, 2706, 2000, 2285, 1010, 2013, 1002, 6191, 2683, 2213, 2095, 1011, 3041, 1012, 1996, 3813, 1010, 2029, 2003, 2085, 2028, 1997, 1996, 5221, 9387, 1999, 8224, 1010, 19727, 2013, 4341, 1997, 2152, 1011, 3177, 4274, 7264, 1998, 3020, 4748, 16874, 4341, 1012, 2051, 9028, 3678, 2056, 2959, 4284, 4341, 3123, 1016, 1003, 2000, 1002, 2340, 1012, 26314, 2078, 2013, 1002, 2184, 1012, 1023, 24700, 1012, 2049, 11372, 2020, 20934, 6977, 2098, 2011, 2028, 1011, 2125, 12154, 2029, 16396, 1037, 5618, 16510, 2012, 6654, 10243, 1010, 1998, 2625, 5198, 2005, 20118, 2140, 1012, 2051, 6654, 2056, 2006, 5958, 2008, 2009, 2085, 8617, 1022, 1003, 1997, 3945, 1011, 3194, 8224, 1012, 2021, 2049, 2219, 4274, 2449, 1010, 20118, 2140, 1010, 2018, 2038, 3816, 18023, 1012, 2009, 2439, 4805, 2549, 1010, 2199, 17073, 1999, 1996, 2959, 4284, 11372, 2020, 2896, 2084, 1999, 1996, 11003, 2093, 7728, 1012, 2174, 1010, 1996, 2194, 2056, 20118, 2140, 1005, 1055, 10318, 5618, 2077, 11813, 5167, 3123, 1022, 1003, 2006, 1996, 2067, 1997, 6428, 4274, 6475, 12594, 1012, 2009, 8069, 2000, 3623, 17073, 2011, 5378, 1996, 3784, 2326, 2489, 2000, 2051, 9028, 3678, 4274, 6304, 1998, 2097, 3046, 2000, 3696, 2039, 20118, 2140, 1005, 1055, 4493, 6304, 2005, 2152, 1011, 3177, 19595, 1012, 2051, 9028, 3678, 2036, 2038, 2000, 2717, 3686, 2456, 1998, 2494, 3463, 2206, 1037, 15113, 2011, 1996, 2149, 12012, 3863, 3222, 1006, 10819, 1007, 1010, 2029, 2003, 2485, 2000, 16228, 1012, 2051, 6654, 1005, 1055, 2959, 4284, 11372, 2020, 3621, 2488, 2084, 18288, 1005, 10908, 1012, 2021, 2049, 2143, 2407, 2387, 11372, 28702, 2676, 1003, 2000, 1002, 26871, 2213, 1010, 3271, 2011, 3482, 1011, 2436, 28583, 2015, 3656, 1998, 4937, 10169, 1010, 1037, 4629, 5688, 2000, 2095, 1011, 3041, 1010, 2043, 1996, 2353, 1998, 2345, 2143, 1999, 1996, 2935, 1997, 1996, 7635, 11544, 28043, 3463, 1012, 2005, 1996, 2440, 1011, 2095, 1010, 2051, 9028, 3678, 6866, 1037, 5618, 1997, 1002, 1017, 1012, 4029, 24700, 1010, 2039, 2676, 1003, 2013, 2049, 2494, 2836, 1010, 2096, 12594, 3473, 1020, 1012, 1018, 1003, 2000, 1002, 4413, 1012, 5641, 24700, 1012, 1000, 2256, 3361, 2836, 2001, 2844, 1010, 3116, 2030, 17003, 2035, 1997, 2256, 2440, 1011, 2095, 11100, 1998, 6551, 20226, 2256, 16991, 1010, 1000, 3472, 1998, 2708, 3237, 2957, 13505, 2056, 1012, 2005, 2384, 1010, 2051, 9028, 3678, 2003, 18398, 4082, 16565, 3930, 1997, 2105, 1019, 1003, 1010, 1998, 2036, 24273, 3020, 6599, 1998, 7289, 5618, 17034, 1012, 2051, 9028, 3678, 2003, 2000, 2717, 3686, 2049, 6115, 2004, 2112, 1997, 4073, 2000, 10663, 2019, 9934, 2046, 20118, 2140, 2011, 2149, 3006, 25644, 1012, 2009, 2038, 2525, 3253, 2000, 3477, 1002, 3998, 2213, 2000, 7392, 5571, 1010, 1999, 1037, 3066, 2008, 2003, 2104, 3319, 2011, 1996, 10819, 1012, 1996, 2194, 2056, 2009, 2001, 4039, 2000, 10197, 1996, 3815, 2009, 2734, 2000, 2275, 4998, 2005, 3423, 8269, 1010, 2029, 2009, 3130, 2275, 2012, 1002, 3156, 2213, 102]\n",
      "\n",
      "Input IDs to Words:\n",
      "[CLS] ad sales boost time warner profit quarterly profits at us media giant time ##war ##ner jumped 76 % to $ 1 . 13 ##bn ( a ##£ ##60 ##0 ##m ) for the three months to december , from $ 63 ##9 ##m year - earlier . the firm , which is now one of the biggest investors in google , benefited from sales of high - speed internet connections and higher ad ##vert sales . time ##war ##ner said fourth quarter sales rose 2 % to $ 11 . 1b ##n from $ 10 . 9 ##bn . its profits were bu ##oy ##ed by one - off gains which offset a profit dip at warner bros , and less users for ao ##l . time warner said on friday that it now owns 8 % of search - engine google . but its own internet business , ao ##l , had has mixed fortunes . it lost 46 ##4 , 000 subscribers in the fourth quarter profits were lower than in the preceding three quarters . however , the company said ao ##l ' s underlying profit before exceptional items rose 8 % on the back of stronger internet advertising revenues . it hopes to increase subscribers by offering the online service free to time ##war ##ner internet customers and will try to sign up ao ##l ' s existing customers for high - speed broadband . time ##war ##ner also has to rest ##ate 2000 and 2003 results following a probe by the us securities exchange commission ( sec ) , which is close to concluding . time warner ' s fourth quarter profits were slightly better than analysts ' expectations . but its film division saw profits slump 27 % to $ 284 ##m , helped by box - office flop ##s alexander and cat ##woman , a sharp contrast to year - earlier , when the third and final film in the lord of the rings trilogy boosted results . for the full - year , time ##war ##ner posted a profit of $ 3 . 36 ##bn , up 27 % from its 2003 performance , while revenues grew 6 . 4 % to $ 42 . 09 ##bn . \" our financial performance was strong , meeting or exceeding all of our full - year objectives and greatly enhancing our flexibility , \" chairman and chief executive richard parsons said . for 2005 , time ##war ##ner is projecting operating earnings growth of around 5 % , and also expects higher revenue and wider profit margins . time ##war ##ner is to rest ##ate its accounts as part of efforts to resolve an inquiry into ao ##l by us market regulators . it has already offered to pay $ 300 ##m to settle charges , in a deal that is under review by the sec . the company said it was unable to estimate the amount it needed to set aside for legal reserves , which it previously set at $ 500 ##m [SEP]\n"
     ]
    }
   ],
   "source": [
    "# Convert the input_ids to tokens/words\n",
    "tokenized_tokens_wtp = tokenizer.convert_ids_to_tokens(tokenized_record_wtp.input_ids)\n",
    "\n",
    "# Convert the list of tokenized words to a single text\n",
    "tokenized_text_wtp = \" \".join(tokenized_tokens_wtp)\n",
    "\n",
    "# Print the untokenized raw text\n",
    "print(\"Raw Article:\")\n",
    "print(hf_data['news'][0], end='\\n\\n')\n",
    "\n",
    "# Print the input_ids\n",
    "print(\"Raw Text to Input IDs:\")\n",
    "print(tokenized_record_wtp.input_ids, end=\"\\n\\n\")\n",
    "\n",
    "# Print the tokenized tokens\n",
    "print(\"Input IDs to Words:\")\n",
    "print(tokenized_text_wtp)"
   ]
  },
  {
   "cell_type": "markdown",
   "id": "6343839f",
   "metadata": {},
   "source": [
    "# Tokenize the whole article dataset with truncation and padding"
   ]
  },
  {
   "cell_type": "markdown",
   "id": "13b084b1",
   "metadata": {},
   "source": [
    "# Split data into train set and split set"
   ]
  },
  {
   "cell_type": "code",
   "execution_count": 27,
   "id": "8e4d9d95",
   "metadata": {},
   "outputs": [
    {
     "data": {
      "text/plain": [
       "DatasetDict({\n",
       "    train: Dataset({\n",
       "        features: ['news', 'labels'],\n",
       "        num_rows: 1780\n",
       "    })\n",
       "    test: Dataset({\n",
       "        features: ['news', 'labels'],\n",
       "        num_rows: 445\n",
       "    })\n",
       "})"
      ]
     },
     "execution_count": 27,
     "metadata": {},
     "output_type": "execute_result"
    }
   ],
   "source": [
    "#split the data into train set and test set\n",
    "hf_data_split = hf_data.train_test_split(test_size=0.2)\n",
    "\n",
    "#show the splitted dataset\n",
    "hf_data_split"
   ]
  },
  {
   "cell_type": "code",
   "execution_count": 28,
   "id": "eefa7c8a",
   "metadata": {},
   "outputs": [
    {
     "data": {
      "text/plain": [
       "96"
      ]
     },
     "execution_count": 28,
     "metadata": {},
     "output_type": "execute_result"
    }
   ],
   "source": [
    "# Delete hf_data as it wil not be used\n",
    "del hf_data\n",
    "\n",
    "# Clear cache\n",
    "gc.collect()"
   ]
  },
  {
   "cell_type": "markdown",
   "id": "64cb5356",
   "metadata": {},
   "source": [
    "# Tokenize the whole article dataset"
   ]
  },
  {
   "cell_type": "code",
   "execution_count": 29,
   "id": "4279120e",
   "metadata": {},
   "outputs": [],
   "source": [
    "#A function which tokenizes the texts of a whole set(train/test)\n",
    "def tokenize(batch):\n",
    "    return tokenizer(batch['news'],truncation=True,padding=True)"
   ]
  },
  {
   "cell_type": "code",
   "execution_count": 30,
   "id": "aebea948",
   "metadata": {},
   "outputs": [
    {
     "data": {
      "application/vnd.jupyter.widget-view+json": {
       "model_id": "cbd168a45203487b9ff5e6610350dd15",
       "version_major": 2,
       "version_minor": 0
      },
      "text/plain": [
       "Map:   0%|          | 0/1780 [00:00<?, ? examples/s]"
      ]
     },
     "metadata": {},
     "output_type": "display_data"
    },
    {
     "data": {
      "application/vnd.jupyter.widget-view+json": {
       "model_id": "d8d6a4c886e54b4fbbc6e4575b24653b",
       "version_major": 2,
       "version_minor": 0
      },
      "text/plain": [
       "Map:   0%|          | 0/445 [00:00<?, ? examples/s]"
      ]
     },
     "metadata": {},
     "output_type": "display_data"
    },
    {
     "data": {
      "text/plain": [
       "Dataset({\n",
       "    features: ['news', 'labels', 'input_ids', 'attention_mask'],\n",
       "    num_rows: 1780\n",
       "})"
      ]
     },
     "execution_count": 30,
     "metadata": {},
     "output_type": "execute_result"
    }
   ],
   "source": [
    "#Applying the tokenized function to the whole dataset\n",
    "hf_data_split_tokenized = hf_data_split.map(tokenize,batched=True,batch_size=None)\n",
    "\n",
    "#showing the tokenized dataset\n",
    "hf_data_split_tokenized['train']"
   ]
  },
  {
   "cell_type": "code",
   "execution_count": 31,
   "id": "1d524954",
   "metadata": {},
   "outputs": [
    {
     "data": {
      "text/plain": [
       "Dataset({\n",
       "    features: ['news', 'labels', 'input_ids', 'attention_mask'],\n",
       "    num_rows: 445\n",
       "})"
      ]
     },
     "execution_count": 31,
     "metadata": {},
     "output_type": "execute_result"
    }
   ],
   "source": [
    "# Showing the tokenized test dataset\n",
    "hf_data_split_tokenized['test']"
   ]
  },
  {
   "cell_type": "markdown",
   "id": "f9d6a20b",
   "metadata": {},
   "source": [
    "We can tokenize the whole dataset using the .map() function, where the function will be applied to both the Dataset inside the DataDict and by setting batch=True it will tokenize the data in batches, but as we have set batch_size=None the tokenizer will tokenize the full dataset as a single batch."
   ]
  },
  {
   "cell_type": "code",
   "execution_count": 32,
   "id": "99e8cce1",
   "metadata": {},
   "outputs": [
    {
     "data": {
      "text/plain": [
       "62"
      ]
     },
     "execution_count": 32,
     "metadata": {},
     "output_type": "execute_result"
    }
   ],
   "source": [
    "# Delete hf_data_split\n",
    "del hf_data_split\n",
    "\n",
    "# Clear the cache\n",
    "gc.collect()"
   ]
  },
  {
   "cell_type": "code",
   "execution_count": 33,
   "id": "8f0738c6",
   "metadata": {},
   "outputs": [],
   "source": [
    "from transformers import AutoModel"
   ]
  },
  {
   "cell_type": "code",
   "execution_count": 34,
   "id": "463d0664",
   "metadata": {},
   "outputs": [],
   "source": [
    "#Load the pre trained model to our available device\n",
    "model = AutoModel.from_pretrained(model_ckpt).to(device)"
   ]
  },
  {
   "cell_type": "markdown",
   "id": "b75cda38",
   "metadata": {},
   "source": [
    "# Inspecting the output of model with single input"
   ]
  },
  {
   "cell_type": "code",
   "execution_count": 35,
   "id": "b035f501",
   "metadata": {},
   "outputs": [
    {
     "name": "stdout",
     "output_type": "stream",
     "text": [
      "Tokenized Input:\n",
      "{'input_ids': tensor([[ 101, 2023, 2003, 1037, 6721, 3793,  102]]), 'attention_mask': tensor([[1, 1, 1, 1, 1, 1, 1]])}\n",
      "\n",
      "torch.Size([1, 7])\n"
     ]
    }
   ],
   "source": [
    "# Any random text\n",
    "text = \"This is a random text\"\n",
    "\n",
    "# Tokenize the text\n",
    "inputs = tokenizer(text, return_tensors='pt')\n",
    "\n",
    "# Print the tokenized \n",
    "print(\"Tokenized Input:\")\n",
    "print(inputs, end=\"\\n\\n\")\n",
    "\n",
    "# Print the tokenized text's input_ids shape\n",
    "print(inputs['input_ids'].shape)"
   ]
  },
  {
   "cell_type": "markdown",
   "id": "0697846a",
   "metadata": {},
   "source": [
    "We have given an parameter return_tensors='pt' which returns the tensor in pytorch format.\n",
    "We can see that the tokenizer tokenizes and returns data with shape [batch_size, sequence_length]"
   ]
  },
  {
   "cell_type": "code",
   "execution_count": 36,
   "id": "43742310",
   "metadata": {},
   "outputs": [
    {
     "data": {
      "text/plain": [
       "BaseModelOutput(last_hidden_state=tensor([[[-0.1903, -0.2716, -0.0031,  ..., -0.0990,  0.1529,  0.5457],\n",
       "         [-0.3594, -0.4633, -0.2592,  ..., -0.2156,  0.5455,  0.5042],\n",
       "         [-0.3533, -0.3095, -0.0491,  ..., -0.0680,  0.0387,  1.0844],\n",
       "         ...,\n",
       "         [ 0.2143, -0.6154,  0.0154,  ..., -0.3222, -0.1448,  0.1043],\n",
       "         [-0.0927, -0.4738,  0.0066,  ..., -0.0058, -0.0991,  0.2114],\n",
       "         [ 1.0047, -0.0394, -0.5573,  ...,  0.1634, -0.7061, -0.1302]]]), hidden_states=None, attentions=None)"
      ]
     },
     "execution_count": 36,
     "metadata": {},
     "output_type": "execute_result"
    }
   ],
   "source": [
    "# Add the inputs to our working device where our loaded model reisdes\n",
    "inputs.to(device)\n",
    "# Disable automatic calculation of gradients\n",
    "with torch.no_grad():\n",
    "    # Give the input_ids and attention mask to the model\n",
    "    outputs = model(**inputs)\n",
    "# Check the output\n",
    "outputs"
   ]
  },
  {
   "cell_type": "markdown",
   "id": "bd1f5ee1",
   "metadata": {},
   "source": [
    "We can notice that it has returned an output of type BaseModelOutput, where the hidden states is stored as a tensor in last_hidden_state inside it."
   ]
  },
  {
   "cell_type": "code",
   "execution_count": 37,
   "id": "5b00fbcb",
   "metadata": {},
   "outputs": [
    {
     "data": {
      "text/plain": [
       "torch.Size([1, 7, 768])"
      ]
     },
     "execution_count": 37,
     "metadata": {},
     "output_type": "execute_result"
    }
   ],
   "source": [
    "# Check the sie of the hidden state\n",
    "outputs.last_hidden_state.size()"
   ]
  },
  {
   "cell_type": "markdown",
   "id": "f6c323bf",
   "metadata": {},
   "source": [
    "Its has created a 768 dimensional vector representation for each of the tokens"
   ]
  },
  {
   "cell_type": "code",
   "execution_count": 38,
   "id": "60a4af03",
   "metadata": {},
   "outputs": [
    {
     "data": {
      "text/plain": [
       "torch.Size([1, 768])"
      ]
     },
     "execution_count": 38,
     "metadata": {},
     "output_type": "execute_result"
    }
   ],
   "source": [
    "# This is the representation for the [CLS] token\n",
    "outputs.last_hidden_state[:,0].size()"
   ]
  },
  {
   "cell_type": "markdown",
   "id": "6ba1bb9f",
   "metadata": {},
   "source": [
    "Let's only visualize the [CLS] token's hidden states given by the model"
   ]
  },
  {
   "cell_type": "markdown",
   "id": "1a974400",
   "metadata": {},
   "source": [
    "# Feeding the model with the whole dataset to get hidden states of [CLS] token"
   ]
  },
  {
   "cell_type": "code",
   "execution_count": 39,
   "id": "a6622ef2",
   "metadata": {},
   "outputs": [],
   "source": [
    "# Function to create hidden states for whole set(train/test)\n",
    "def extract_hidden_states(batch):\n",
    "    # Load the values of the batch data to the device where model resides\n",
    "    inputs = {k:v.to(device) for k,v in batch.items() if k in tokenizer.model_input_names}\n",
    "    \n",
    "    # Disable the automatic calculation of gradients\n",
    "    with torch.no_grad():\n",
    "        # Feed the input to the model\n",
    "        last_hidden_states = model(**inputs).last_hidden_state\n",
    "        \n",
    "    # Return the column consisting of hidden states of data\n",
    "    return {'hidden_states': last_hidden_states[:,0].cpu().numpy()}"
   ]
  },
  {
   "cell_type": "markdown",
   "id": "917ab13c",
   "metadata": {},
   "source": [
    "In the first line of the function, we are loading the values which the model takes as input(input_ids & attention_mask) to the device where the model resides.\n",
    "Here in the last line we have loaded the last hidden states in the cpu as a numpy array.\n",
    "Before we extract the hidden features, we need to convert the inputs tensors to pytorch format"
   ]
  },
  {
   "cell_type": "markdown",
   "id": "ab672d11",
   "metadata": {},
   "source": [
    "# Convert dataset's tensors to pytorch tensor format"
   ]
  },
  {
   "cell_type": "code",
   "execution_count": 40,
   "id": "33b624c5",
   "metadata": {},
   "outputs": [],
   "source": [
    "# We can easily do it using the .set_format() method\n",
    "hf_data_split_tokenized.set_format('torch', columns=['input_ids', 'attention_mask', 'labels'])"
   ]
  },
  {
   "cell_type": "markdown",
   "id": "ff601959",
   "metadata": {},
   "source": [
    "# Extract the hidden states for the [CLS] token"
   ]
  },
  {
   "cell_type": "code",
   "execution_count": 41,
   "id": "6efe1673",
   "metadata": {},
   "outputs": [
    {
     "data": {
      "application/vnd.jupyter.widget-view+json": {
       "model_id": "47640d3cfd3a4982a96fca81de9db9f0",
       "version_major": 2,
       "version_minor": 0
      },
      "text/plain": [
       "Map:   0%|          | 0/1780 [00:00<?, ? examples/s]"
      ]
     },
     "metadata": {},
     "output_type": "display_data"
    },
    {
     "data": {
      "application/vnd.jupyter.widget-view+json": {
       "model_id": "ca3eed4ac7914ce7870f2ffd1000ad83",
       "version_major": 2,
       "version_minor": 0
      },
      "text/plain": [
       "Map:   0%|          | 0/445 [00:00<?, ? examples/s]"
      ]
     },
     "metadata": {},
     "output_type": "display_data"
    },
    {
     "data": {
      "text/plain": [
       "DatasetDict({\n",
       "    train: Dataset({\n",
       "        features: ['news', 'labels', 'input_ids', 'attention_mask', 'hidden_states'],\n",
       "        num_rows: 1780\n",
       "    })\n",
       "    test: Dataset({\n",
       "        features: ['news', 'labels', 'input_ids', 'attention_mask', 'hidden_states'],\n",
       "        num_rows: 445\n",
       "    })\n",
       "})"
      ]
     },
     "execution_count": 41,
     "metadata": {},
     "output_type": "execute_result"
    }
   ],
   "source": [
    "# Extract the hidden states of the whole dataset(train & test)\n",
    "hf_hidden = hf_data_split_tokenized.map(extract_hidden_states, batched=True, batch_size=100)\n",
    "\n",
    "# Show the hidden dataset\n",
    "hf_hidden"
   ]
  },
  {
   "cell_type": "markdown",
   "id": "2d2d65fc",
   "metadata": {},
   "source": [
    "# Performing Dimension Reduction for hidden states to visualize"
   ]
  },
  {
   "cell_type": "code",
   "execution_count": 42,
   "id": "124424e3",
   "metadata": {},
   "outputs": [],
   "source": [
    "from sklearn.manifold import TSNE"
   ]
  },
  {
   "cell_type": "code",
   "execution_count": 43,
   "id": "55c85b64",
   "metadata": {},
   "outputs": [],
   "source": [
    "# Get the hidden space vector which has to be reduced\n",
    "X = hf_hidden['train']['hidden_states']\n",
    "\n",
    "# Get its corresponding labels\n",
    "Y = hf_hidden['train']['labels']"
   ]
  },
  {
   "cell_type": "code",
   "execution_count": 44,
   "id": "e53a077f",
   "metadata": {},
   "outputs": [
    {
     "data": {
      "text/plain": [
       "(1780, 2)"
      ]
     },
     "execution_count": 44,
     "metadata": {},
     "output_type": "execute_result"
    }
   ],
   "source": [
    "# Initialize the TSNE model\n",
    "tsne_model = TSNE(n_components=2)\n",
    "\n",
    "# Perform dimension reduction on the hidden space vector\n",
    "X_red = tsne_model.fit_transform(X)\n",
    "\n",
    "# Print the shape of reduced vector\n",
    "X_red.shape"
   ]
  },
  {
   "cell_type": "markdown",
   "id": "8d5ea8f7",
   "metadata": {},
   "source": [
    "We have successfully reduced hidden states of [CLS] token for each of the 1780 articles in the training set"
   ]
  },
  {
   "cell_type": "markdown",
   "id": "266dfeeb",
   "metadata": {},
   "source": [
    "# Convert to dataframe to visualize"
   ]
  },
  {
   "cell_type": "code",
   "execution_count": 45,
   "id": "a03814a7",
   "metadata": {},
   "outputs": [
    {
     "data": {
      "text/html": [
       "<div>\n",
       "<style scoped>\n",
       "    .dataframe tbody tr th:only-of-type {\n",
       "        vertical-align: middle;\n",
       "    }\n",
       "\n",
       "    .dataframe tbody tr th {\n",
       "        vertical-align: top;\n",
       "    }\n",
       "\n",
       "    .dataframe thead th {\n",
       "        text-align: right;\n",
       "    }\n",
       "</style>\n",
       "<table border=\"1\" class=\"dataframe\">\n",
       "  <thead>\n",
       "    <tr style=\"text-align: right;\">\n",
       "      <th></th>\n",
       "      <th>X</th>\n",
       "      <th>Y</th>\n",
       "      <th>label</th>\n",
       "    </tr>\n",
       "  </thead>\n",
       "  <tbody>\n",
       "    <tr>\n",
       "      <th>0</th>\n",
       "      <td>-33.583405</td>\n",
       "      <td>21.956972</td>\n",
       "      <td>0</td>\n",
       "    </tr>\n",
       "    <tr>\n",
       "      <th>1</th>\n",
       "      <td>0.488302</td>\n",
       "      <td>48.305130</td>\n",
       "      <td>0</td>\n",
       "    </tr>\n",
       "    <tr>\n",
       "      <th>2</th>\n",
       "      <td>-24.034260</td>\n",
       "      <td>46.674141</td>\n",
       "      <td>0</td>\n",
       "    </tr>\n",
       "    <tr>\n",
       "      <th>3</th>\n",
       "      <td>29.078957</td>\n",
       "      <td>-54.973038</td>\n",
       "      <td>3</td>\n",
       "    </tr>\n",
       "    <tr>\n",
       "      <th>4</th>\n",
       "      <td>6.459774</td>\n",
       "      <td>-10.463651</td>\n",
       "      <td>1</td>\n",
       "    </tr>\n",
       "  </tbody>\n",
       "</table>\n",
       "</div>"
      ],
      "text/plain": [
       "           X          Y  label\n",
       "0 -33.583405  21.956972      0\n",
       "1   0.488302  48.305130      0\n",
       "2 -24.034260  46.674141      0\n",
       "3  29.078957 -54.973038      3\n",
       "4   6.459774 -10.463651      1"
      ]
     },
     "execution_count": 45,
     "metadata": {},
     "output_type": "execute_result"
    }
   ],
   "source": [
    "# Dictionary with hidden states and labels to convert to dataframe\n",
    "df_red_dict = {\"X\":X_red[:,0],\"Y\":X_red[:,1], \"label\":Y}\n",
    "\n",
    "# Convert to dataframe\n",
    "df_red = pd.DataFrame(df_red_dict)\n",
    "\n",
    "# Show dataframe\n",
    "df_red.head()"
   ]
  },
  {
   "cell_type": "markdown",
   "id": "5015a3c0",
   "metadata": {},
   "source": [
    "# Visualizing the hidden states of the DistilBERT model reduced by T-SNE"
   ]
  },
  {
   "cell_type": "code",
   "execution_count": 46,
   "id": "670fb081",
   "metadata": {},
   "outputs": [
    {
     "data": {
      "image/png": "[encoded data removed]",
      "text/plain": [
       "<Figure size 2000x1500 with 6 Axes>"
      ]
     },
     "metadata": {},
     "output_type": "display_data"
    }
   ],
   "source": [
    "# Create subplots\n",
    "fig, ax = plt.subplots(2,3, figsize=(20,15))\n",
    "\n",
    "# Palettes to use to plot\n",
    "cmaps = [\"Greys\", \"Blues\", \"Oranges\", \"Reds\", \"Purples\"]\n",
    "\n",
    "# Encoded labels\n",
    "encoded_labels = label_encoder.transform(unique_category)\n",
    "\n",
    "# Iterate through each category and plot its data\n",
    "for index, (label, cmap) in enumerate(zip(encoded_labels, cmaps)):\n",
    "    # Get the hidden features where of the iteration label\n",
    "    df_red_sub = df_red.query(f\"label=={label}\")\n",
    "    \n",
    "    # Plot the hexbin plot\n",
    "    ax.ravel()[index].hexbin(df_red_sub['X'],df_red_sub['Y'], cmap=cmap, gridsize=20)\n",
    "    \n",
    "    # Get the name of category\n",
    "    category = label_encoder.inverse_transform([label])[0]\n",
    "    \n",
    "    # Plot the news category as title\n",
    "    ax.ravel()[index].set_title(category)\n",
    "    \n",
    "    # Set the axis off\n",
    "    ax.ravel()[index].set_axis_off()\n",
    "    \n",
    "# Set the axis of last plot off as we have 2 rows and 2 columns in subplots\n",
    "ax.ravel()[5].set_axis_off()\n",
    "    \n",
    "    \n",
    "plt.tight_layout()\n",
    "plt.show()"
   ]
  },
  {
   "cell_type": "markdown",
   "id": "3511660b",
   "metadata": {},
   "source": [
    "Observations:¶\n",
    "We can clearly see that the sport category and entertainment category has a huge overlap, this was expected as in real world sports is a billion dollar market when it comes to entertainment and this thing is highlighted in the articles due to choice of words.\n",
    "We can also see a sligh overlap in the politics and entertainment category. We know politics also is a part of entertainment for some adults and middle-age individuals. It may also mean that politics articles may have words which are used for entertainment articles.\n",
    "We could also notice that tech and business also has some overlap. This could be because of the sever relation between innovation and money. We know that influence in tech also influences the business, and visa-versa. It may also mean that tech articles and business articles might have some similar common words.\n",
    "Note: These are just assumptions based on the results. The above graphs might not be reproducable. Assumptions like these might require to go through Hypothesis Testing to conclude whether there is really a relation or its due to random chance. However, as this is out of scope for this case study, let's proceed further with fine-tuning our model"
   ]
  },
  {
   "cell_type": "markdown",
   "id": "d4a6b5c0",
   "metadata": {},
   "source": [
    "# Fine-Tuning DistilBERT for our casestudy"
   ]
  },
  {
   "cell_type": "markdown",
   "id": "547fb34d",
   "metadata": {},
   "source": [
    "# Clear the unwanted storage stored in device to make space for training"
   ]
  },
  {
   "cell_type": "code",
   "execution_count": 47,
   "id": "0fe780be",
   "metadata": {},
   "outputs": [
    {
     "data": {
      "text/plain": [
       "5010"
      ]
     },
     "execution_count": 47,
     "metadata": {},
     "output_type": "execute_result"
    }
   ],
   "source": [
    "# Delete unwanted variables to save space\n",
    "del hf_hidden, X, Y, X_red, df_red, df_red_dict\n",
    "\n",
    "# Clear cache\n",
    "gc.collect()"
   ]
  },
  {
   "cell_type": "code",
   "execution_count": 48,
   "id": "e86a6476",
   "metadata": {},
   "outputs": [],
   "source": [
    "# Clear GPU cache\n",
    "torch.cuda.empty_cache()"
   ]
  },
  {
   "cell_type": "markdown",
   "id": "dfff3cce",
   "metadata": {},
   "source": [
    "# Loading the model"
   ]
  },
  {
   "cell_type": "code",
   "execution_count": 49,
   "id": "e435d515",
   "metadata": {},
   "outputs": [],
   "source": [
    "from transformers import AutoModelForSequenceClassification"
   ]
  },
  {
   "cell_type": "code",
   "execution_count": 50,
   "id": "b41ad9f4",
   "metadata": {},
   "outputs": [
    {
     "name": "stderr",
     "output_type": "stream",
     "text": [
      "Some weights of DistilBertForSequenceClassification were not initialized from the model checkpoint at distilbert-base-uncased and are newly initialized: ['classifier.weight', 'pre_classifier.weight', 'classifier.bias', 'pre_classifier.bias']\n",
      "You should probably TRAIN this model on a down-stream task to be able to use it for predictions and inference.\n"
     ]
    }
   ],
   "source": [
    "# Set the number of labels we want to predict\n",
    "num_labels = 5\n",
    "\n",
    "# Load and configure the pre-trained model\n",
    "model = AutoModelForSequenceClassification.from_pretrained(model_ckpt, num_labels=num_labels).to(device)"
   ]
  },
  {
   "cell_type": "markdown",
   "id": "b7dc1aaf",
   "metadata": {},
   "source": [
    "- This IS expected if you are initializing DistilBertForSequenceClassification from the checkpoint of a model trained on another task or with another architecture (e.g. initializing a BertForSequenceClassification model from a BertForPreTraining model).\n",
    "\n",
    "- This IS NOT expected if you are initializing DistilBertForSequenceClassification from the checkpoint of a model that you expect to be exactly identical (initializing a BertForSequenceClassification model from a BertForSequenceClassification model).\n",
    "\n",
    "Some weights of DistilBertForSequenceClassification were not initialized from the model checkpoint at distilbert-base-uncased and are newly initialized: ['pre_classifier.bias', 'pre_classifier.weight', 'classifier.weight', 'classifier.bias']\n",
    "\n",
    "You should probably TRAIN this model on a down-stream task to be able to use it for predictions and inference"
   ]
  },
  {
   "cell_type": "markdown",
   "id": "86503ffe",
   "metadata": {},
   "source": [
    "# Defining function to calculate metrics"
   ]
  },
  {
   "cell_type": "code",
   "execution_count": 51,
   "id": "298fd6e2",
   "metadata": {},
   "outputs": [],
   "source": [
    "from sklearn.metrics import accuracy_score, f1_score, ConfusionMatrixDisplay, confusion_matrix, classification_report"
   ]
  },
  {
   "cell_type": "code",
   "execution_count": 52,
   "id": "024fe488",
   "metadata": {},
   "outputs": [],
   "source": [
    "def compute_metrics(pred):\n",
    "    labels = pred.label_ids\n",
    "    preds = pred.predictions.argmax(-1)\n",
    "    f1 = f1_score(labels, preds, average=\"weighted\")\n",
    "    acc = accuracy_score(labels, preds)\n",
    "    return {\"accuracy\": acc, \"f1\": f1}"
   ]
  },
  {
   "cell_type": "code",
   "execution_count": 53,
   "id": "43823450",
   "metadata": {},
   "outputs": [],
   "source": [
    "def plot_confusion_matrix(y_preds, y_true, labels):\n",
    "    cm = confusion_matrix(y_true, y_preds, normalize=\"true\")\n",
    "    fig, ax = plt.subplots(figsize=(12, 8))\n",
    "    disp = ConfusionMatrixDisplay(confusion_matrix=cm, display_labels=labels)\n",
    "    disp.plot(cmap=\"Blues\", values_format=\".2f\", ax=ax, colorbar=False)\n",
    "    plt.title(\"Normalized confusion matrix\")\n",
    "    plt.show()"
   ]
  },
  {
   "cell_type": "markdown",
   "id": "457d4783",
   "metadata": {},
   "source": [
    "# Configure the model's parameters"
   ]
  },
  {
   "cell_type": "code",
   "execution_count": 54,
   "id": "68f8a352",
   "metadata": {},
   "outputs": [],
   "source": [
    "from transformers import TrainingArguments"
   ]
  },
  {
   "cell_type": "code",
   "execution_count": null,
   "id": "ba96673e",
   "metadata": {},
   "outputs": [],
   "source": [
    "# Set the number of epochs and batch size and learning rate and model name\n",
    "epochs = 2\n",
    "batch_size = 1\n",
    "learning_rate = 2e-5\n",
    "model_name = f\"{model_ckpt}-bbc-finetuned\"\n",
    "\n",
    "# Create a training argument object\n",
    "training_args = TrainingArguments(output_dir=model_name,\n",
    "                                  num_train_epochs=epochs,\n",
    "                                  learning_rate=learning_rate,\n",
    "                                  per_device_train_batch_size=batch_size,\n",
    "                                  per_device_eval_batch_size=batch_size,\n",
    "                                  evaluation_strategy='epoch',\n",
    "                                  gradient_accumulation_steps=16,\n",
    "                                  disable_tqdm=False,\n",
    "                                  push_to_hub=False)"
   ]
  },
  {
   "cell_type": "markdown",
   "id": "b5ee1b79",
   "metadata": {},
   "source": [
    "# Initialize the model"
   ]
  },
  {
   "cell_type": "code",
   "execution_count": 64,
   "id": "5963302c",
   "metadata": {},
   "outputs": [],
   "source": [
    "from transformers import Trainer"
   ]
  },
  {
   "cell_type": "code",
   "execution_count": null,
   "id": "523c0773",
   "metadata": {},
   "outputs": [],
   "source": [
    "trainer = Trainer(model=model, args=training_args,\n",
    "                  compute_metrics=compute_metrics,\n",
    "                  train_dataset=hf_data_split_tokenized['train'],\n",
    "                  eval_dataset=hf_data_split_tokenized['test'],\n",
    "                  tokenizer=tokenizer)"
   ]
  },
  {
   "cell_type": "markdown",
   "id": "980c3601",
   "metadata": {},
   "source": [
    "# Train the model"
   ]
  },
  {
   "cell_type": "code",
   "execution_count": null,
   "id": "ef85d89e",
   "metadata": {},
   "outputs": [],
   "source": [
    "torch.cuda.empty_cache()"
   ]
  },
  {
   "cell_type": "code",
   "execution_count": null,
   "id": "1fc282b6",
   "metadata": {},
   "outputs": [],
   "source": [
    "trainer.train()"
   ]
  },
  {
   "cell_type": "markdown",
   "id": "5a0cd92a",
   "metadata": {},
   "source": [
    "# Evaluate the model"
   ]
  },
  {
   "cell_type": "code",
   "execution_count": null,
   "id": "80a04f63",
   "metadata": {},
   "outputs": [],
   "source": [
    "# Make predictions on the test set\n",
    "predictions = trainer.predict(hf_data_split_tokenized['test'])\n",
    "\n",
    "# Get the prediction metrics\n",
    "predictions.metrics"
   ]
  },
  {
   "cell_type": "code",
   "execution_count": null,
   "id": "0dd46357",
   "metadata": {},
   "outputs": [],
   "source": [
    "# Get the predicted labels from the predictions\n",
    "y_preds = np.argmax(predictions.predictions, axis=1)\n",
    "\n",
    "# Get the real labels of test set from the dataset\n",
    "y_valid = hf_data_split_tokenized['test']['labels']"
   ]
  },
  {
   "cell_type": "code",
   "execution_count": null,
   "id": "cb5892ad",
   "metadata": {},
   "outputs": [],
   "source": [
    "# Plot the confusion matrix\n",
    "plot_confusion_matrix(y_preds, y_valid, labels=unique_category)"
   ]
  },
  {
   "cell_type": "code",
   "execution_count": null,
   "id": "cebbbb03",
   "metadata": {},
   "outputs": [],
   "source": [
    "print(classification_report(y_true=y_valid, y_pred=y_preds))"
   ]
  },
  {
   "cell_type": "markdown",
   "id": "07787d57",
   "metadata": {},
   "source": [
    "The confusion matrix also looks really great! Our DistilBERT model has excellently classified the new articles with some very minute misclassifications"
   ]
  },
  {
   "cell_type": "code",
   "execution_count": null,
   "id": "4c7e0e61",
   "metadata": {},
   "outputs": [],
   "source": []
  }
 ],
 "metadata": {
  "kernelspec": {
   "display_name": "Python 3 (ipykernel)",
   "language": "python",
   "name": "python3"
  },
  "language_info": {
   "codemirror_mode": {
    "name": "ipython",
    "version": 3
   },
   "file_extension": ".py",
   "mimetype": "text/x-python",
   "name": "python",
   "nbconvert_exporter": "python",
   "pygments_lexer": "ipython3",
   "version": "3.9.13"
  }
 },
 "nbformat": 4,
 "nbformat_minor": 5
}
